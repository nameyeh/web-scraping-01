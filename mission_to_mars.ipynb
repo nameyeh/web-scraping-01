{
 "cells": [
  {
   "cell_type": "markdown",
   "metadata": {},
   "source": [
    "# Step 1 - Scraping"
   ]
  },
  {
   "cell_type": "code",
   "execution_count": 1,
   "metadata": {},
   "outputs": [],
   "source": [
    "# Complete your initial scraping using \n",
    "# Jupyter Notebook, BeautifulSoup, Pandas, and Requests/Splinter.\n",
    "\n",
    "# Create a Jupyter Notebook file called mission_to_mars.ipynb \n",
    "# and use this to complete all of your scraping and analysis tasks. \n",
    "# The following outlines what you need to scrape."
   ]
  },
  {
   "cell_type": "markdown",
   "metadata": {},
   "source": [
    "### NASA Mars News"
   ]
  },
  {
   "cell_type": "code",
   "execution_count": 2,
   "metadata": {},
   "outputs": [],
   "source": [
    "# Scrape the NASA Mars News Site and collect the latest News Title and Paragragh Text. \n",
    "# Assign the text to variables that you can reference later.\n",
    "# # Example:\n",
    "# news_title = \"NASA's Next Mars Mission to Investigate Interior of Red Planet\"\n",
    "\n",
    "# news_p = \"Preparation of NASA's next spacecraft to Mars, InSight, has ramped up this summer,\\\n",
    "# on course for launch next May from Vandenberg Air Force Base in central California -- the first\\\n",
    "# interplanetary launch in history from America's West Coast.\""
   ]
  },
  {
   "cell_type": "code",
   "execution_count": 34,
   "metadata": {},
   "outputs": [],
   "source": [
    "# Dependencies\n",
    "import pandas as pd\n",
    "from bs4 import BeautifulSoup\n",
    "from splinter import Browser\n",
    "from selenium import webdriver"
   ]
  },
  {
   "cell_type": "code",
   "execution_count": 35,
   "metadata": {},
   "outputs": [],
   "source": [
    "browser = Browser('chrome', headless=False)\n",
    "url = 'https://mars.nasa.gov/news/'\n",
    "browser.visit(url)"
   ]
  },
  {
   "cell_type": "code",
   "execution_count": 36,
   "metadata": {},
   "outputs": [],
   "source": [
    "html = browser.html\n",
    "soup = BeautifulSoup(html, 'html.parser')\n",
    "# print(soup.prettify())"
   ]
  },
  {
   "cell_type": "code",
   "execution_count": 37,
   "metadata": {},
   "outputs": [
    {
     "data": {
      "text/plain": [
       "'<body id=\"news\" style=\"\">\\n <div id=\"main_container\">\\n  <div id=\"site_body\">\\n   <div class=\"site_header_area\">\\n    <header class=\"site_header\">\\n     <div class=\"brand_area\">\\n      <div class=\"brand1\">\\n       <a class=\"nasa_logo\" href=\"http://www.nasa.gov\" target=\"_blank\" title=\"visit nasa.gov\">\\n        NASA\\n       </a>\\n      </div>\\n      <div class=\"brand2\">\\n       <a class=\"top_logo\" href=\"https://science.nasa.gov/\" target=\"_blank\" title=\"Explore NASA Science\">\\n        NASA Science\\n       </a>\\n       <a class=\"sub_logo\" href=\"/mars-exploration/#\" title=\"Mars\">\\n        Mars Exploration Program\\n       </a>\\n      </div>\\n      <img alt=\"\" class=\"print_only print_logo\" src=\"/assets/logo_nasa_trio_black@2x.png\"/>\\n     </div>\\n     <a class=\"visuallyhidden focusable\" href=\"#page\">\\n      Skip Navigation\\n     </a>\\n     <div class=\"right_header_container\">\\n      <a class=\"menu_button\" href=\"javascript:void(0);\" id=\"menu_button\">\\n       <span class=\"menu_icon\">\\n        menu\\n       </span>\\n      </a>\\n      <a class=\"modal_close\" id=\"modal_close\">\\n       <span class=\"modal_close_icon\">\\n       </span>\\n      </a>\\n     </div>\\n     <div class=\"nav_area\" style=\"\">\\n      <div id=\"site_nav_container\">\\n       <nav class=\"site_nav\">\\n        <ul class=\"nav\">\\n         <li>\\n          <div class=\"arrow_box\">\\n           <span class=\"arrow_down\">\\n           </span>\\n          </div>\\n          <div class=\"nav_title\">\\n           <a class=\"main_nav_item\" href=\"/#red_planet\" target=\"_self\">\\n            The Red Planet\\n           </a>\\n          </div>\\n          <div class=\"global_subnav_container\">\\n           <ul class=\"subnav\">\\n            <li>\\n             <a href=\"/#red_planet/0\" target=\"_self\">\\n              Dashboard\\n             </a>\\n            </li>\\n            <li>\\n             <a href=\"/#red_planet/1\" target=\"_self\">\\n              Science Goals\\n             </a>\\n            </li>\\n            <li>\\n             <a href=\"/#red_planet/2\" target=\"_self\">\\n              The Planet\\n             </a>\\n            </li>\\n            <li>\\n             <a href=\"/#red_planet/3\" target=\"_self\">\\n              Atmosphere\\n             </a>\\n            </li>\\n            <li>\\n             <a href=\"/#red_planet/4\" target=\"_self\">\\n              Astrobiology\\n             </a>\\n            </li>\\n            <li>\\n             <a href=\"/#red_planet/5\" target=\"_self\">\\n              Past, Present, Future, Timeline\\n             </a>\\n            </li>\\n           </ul>\\n          </div>\\n          <div class=\"gradient_line\">\\n          </div>\\n         </li>\\n         <li>\\n          <div class=\"arrow_box\">\\n           <span class=\"arrow_down\">\\n           </span>\\n          </div>\\n          <div class=\"nav_title\">\\n           <a class=\"main_nav_item\" href=\"/#mars_exploration_program\" target=\"_self\">\\n            The Program\\n           </a>\\n          </div>\\n          <div class=\"global_subnav_container\">\\n           <ul class=\"subnav\">\\n            <li>\\n             <a href=\"/#mars_exploration_program/0\" target=\"_self\">\\n              Mission Statement\\n             </a>\\n            </li>\\n            <li>\\n             <a href=\"/#mars_exploration_program/1\" target=\"_self\">\\n              About the Program\\n             </a>\\n            </li>\\n            <li>\\n             <a href=\"/#mars_exploration_program/2\" target=\"_self\">\\n              Organization\\n             </a>\\n            </li>\\n            <li>\\n             <a href=\"/#mars_exploration_program/3\" target=\"_self\">\\n              Why Mars?\\n             </a>\\n            </li>\\n            <li>\\n             <a href=\"/#mars_exploration_program/4\" target=\"_self\">\\n              Research Programs\\n             </a>\\n            </li>\\n            <li>\\n             <a href=\"/#mars_exploration_program/5\" target=\"_self\">\\n              Planetary Resources\\n             </a>\\n            </li>\\n            <li>\\n             <a href=\"/#mars_exploration_program/6\" target=\"_self\">\\n              Technologies\\n             </a>\\n            </li>\\n           </ul>\\n          </div>\\n          <div class=\"gradient_line\">\\n          </div>\\n         </li>\\n         <li>\\n          <div class=\"arrow_box\">\\n           <span class=\"arrow_down\">\\n           </span>\\n          </div>\\n          <div class=\"nav_title\">\\n           <a class=\"main_nav_item\" href=\"/#news_and_events\" target=\"_self\">\\n            News &amp; Events\\n           </a>\\n          </div>\\n          <div class=\"global_subnav_container\">\\n           <ul class=\"subnav\">\\n            <li class=\"current\">\\n             <a href=\"/news\" target=\"_self\">\\n              News\\n             </a>\\n            </li>\\n            <li>\\n             <a href=\"/events\" target=\"_self\">\\n              Events\\n             </a>\\n            </li>\\n           </ul>\\n          </div>\\n          <div class=\"gradient_line\">\\n          </div>\\n         </li>\\n         <li>\\n          <div class=\"arrow_box\">\\n           <span class=\"arrow_down\">\\n           </span>\\n          </div>\\n          <div class=\"nav_title\">\\n           <a class=\"main_nav_item\" href=\"/#multimedia\" target=\"_self\">\\n            Multimedia\\n           </a>\\n          </div>\\n          <div class=\"global_subnav_container\">\\n           <ul class=\"subnav\">\\n            <li>\\n             <a href=\"/multimedia/images/\" target=\"_self\">\\n              Images\\n             </a>\\n            </li>\\n            <li>\\n             <a href=\"/multimedia/videos/\" target=\"_self\">\\n              Videos\\n             </a>\\n            </li>\\n           </ul>\\n          </div>\\n          <div class=\"gradient_line\">\\n          </div>\\n         </li>\\n         <li>\\n          <div class=\"arrow_box\">\\n           <span class=\"arrow_down\">\\n           </span>\\n          </div>\\n          <div class=\"nav_title\">\\n           <a class=\"main_nav_item\" href=\"/#missions\" target=\"_self\">\\n            Missions\\n           </a>\\n          </div>\\n          <div class=\"global_subnav_container\">\\n           <ul class=\"subnav\">\\n            <li>\\n             <a href=\"/mars-exploration/missions/?category=167\" target=\"_self\">\\n              Past\\n             </a>\\n            </li>\\n            <li>\\n             <a href=\"/mars-exploration/missions/?category=170\" target=\"_self\">\\n              Present\\n             </a>\\n            </li>\\n            <li>\\n             <a href=\"/mars-exploration/missions/?category=171\" target=\"_self\">\\n              Future\\n             </a>\\n            </li>\\n            <li>\\n             <a href=\"/mars-exploration/partners\" target=\"_self\">\\n              International Partners\\n             </a>\\n            </li>\\n           </ul>\\n          </div>\\n          <div class=\"gradient_line\">\\n          </div>\\n         </li>\\n         <li>\\n          <div class=\"nav_title\">\\n           <a class=\"main_nav_item\" href=\"/#more\" target=\"_self\">\\n            More\\n           </a>\\n          </div>\\n          <div class=\"gradient_line\">\\n          </div>\\n         </li>\\n         <li>\\n          <div class=\"nav_title\">\\n           <a class=\"main_nav_item\" href=\"/legacy\" target=\"_self\">\\n            Legacy Site\\n           </a>\\n          </div>\\n          <div class=\"gradient_line\">\\n          </div>\\n         </li>\\n        </ul>\\n        <form action=\"https://mars.nasa.gov/search/\" class=\"overlay_search nav_search\">\\n         <label class=\"search_label\">\\n          Search\\n         </label>\\n         <input class=\"search_field\" name=\"q\" type=\"text\" value=\"\"/>\\n         <div class=\"search_submit\">\\n         </div>\\n        </form>\\n       </nav>\\n      </div>\\n     </div>\\n    </header>\\n   </div>\\n   <div id=\"sticky_nav_spacer\">\\n   </div>\\n   <div id=\"page\">\\n    <!-- title to go in the page_header -->\\n    <div class=\"header_mask\">\\n    </div>\\n    <div class=\"react_grid_list\" data-react-class=\"GridListPage\" data-react-props=\\'{\"left_column\":false,\"class_name\":\"\",\"default_view\":\"list_view\",\"model\":\"news_items\",\"view_toggle\":false,\"search\":true,\"list_item\":\"News\",\"title\":\"News\",\"categories\":[\"19,165,184,204\"],\"order\":\"publish_date desc,created_at desc\",\"no_items_text\":\"There are no items matching these criteria.\",\"per_page\":null,\"filters\":\"[ [ \\\\\"date\\\\\", [ [ \\\\\"2018\\\\\", \\\\\"2018\\\\\" ], [ \\\\\"2017\\\\\", \\\\\"2017\\\\\" ], [ \\\\\"2016\\\\\", \\\\\"2016\\\\\" ], [ \\\\\"2015\\\\\", \\\\\"2015\\\\\" ], [ \\\\\"2014\\\\\", \\\\\"2014\\\\\" ], [ \\\\\"2013\\\\\", \\\\\"2013\\\\\" ], [ \\\\\"2012\\\\\", \\\\\"2012\\\\\" ], [ \\\\\"2011\\\\\", \\\\\"2011\\\\\" ], [ \\\\\"2010\\\\\", \\\\\"2010\\\\\" ], [ \\\\\"2009\\\\\", \\\\\"2009\\\\\" ], [ \\\\\"2008\\\\\", \\\\\"2008\\\\\" ], [ \\\\\"2007\\\\\", \\\\\"2007\\\\\" ], [ \\\\\"2006\\\\\", \\\\\"2006\\\\\" ], [ \\\\\"2005\\\\\", \\\\\"2005\\\\\" ], [ \\\\\"2004\\\\\", \\\\\"2004\\\\\" ], [ \\\\\"2003\\\\\", \\\\\"2003\\\\\" ], [ \\\\\"2002\\\\\", \\\\\"2002\\\\\" ], [ \\\\\"2001\\\\\", \\\\\"2001\\\\\" ], [ \\\\\"2000\\\\\", \\\\\"2000\\\\\" ] ], [ \\\\\"Latest\\\\\", \\\\\"\\\\\" ], false ], [ \\\\\"categories\\\\\", [ [ \\\\\"Feature Stories\\\\\", 165 ], [ \\\\\"Press Releases\\\\\", 19 ], [ \\\\\"Spotlights\\\\\", 184 ], [ \\\\\"Status Reports\\\\\", 204 ] ], [ \\\\\"All Categories\\\\\", \\\\\"\\\\\" ], false ] ]\",\"conditions\":null,\"scope_in_title\":true,\"options\":{\"blank_scope\":\"Latest\"},\"results_in_title\":false}\\'>\\n     <section class=\"grid_gallery module list_view\" data-reactroot=\"\">\\n      <div class=\"grid_layout\">\\n       <header class=\"gallery_header\">\\n        <h2 class=\"module_title\">\\n         News\\n        </h2>\\n        <section class=\"filter_bar\">\\n         <div class=\"section_search\">\\n          <div class=\"search_binder\">\\n           <input class=\"search_field\" name=\"search\" placeholder=\"search\" type=\"text\" value=\"\"/>\\n           <input class=\"search_submit\" type=\"submit\" value=\"\"/>\\n          </div>\\n          <select class=\"filter\" id=\"date\" name=\"date\">\\n           <option value=\"\">\\n            Latest\\n           </option>\\n           <option value=\"2018\">\\n            2018\\n           </option>\\n           <option value=\"2017\">\\n            2017\\n           </option>\\n           <option value=\"2016\">\\n            2016\\n           </option>\\n           <option value=\"2015\">\\n            2015\\n           </option>\\n           <option value=\"2014\">\\n            2014\\n           </option>\\n           <option value=\"2013\">\\n            2013\\n           </option>\\n           <option value=\"2012\">\\n            2012\\n           </option>\\n           <option value=\"2011\">\\n            2011\\n           </option>\\n           <option value=\"2010\">\\n            2010\\n           </option>\\n           <option value=\"2009\">\\n            2009\\n           </option>\\n           <option value=\"2008\">\\n            2008\\n           </option>\\n           <option value=\"2007\">\\n            2007\\n           </option>\\n           <option value=\"2006\">\\n            2006\\n           </option>\\n           <option value=\"2005\">\\n            2005\\n           </option>\\n           <option value=\"2004\">\\n            2004\\n           </option>\\n           <option value=\"2003\">\\n            2003\\n           </option>\\n           <option value=\"2002\">\\n            2002\\n           </option>\\n           <option value=\"2001\">\\n            2001\\n           </option>\\n           <option value=\"2000\">\\n            2000\\n           </option>\\n          </select>\\n          <select class=\"filter\" id=\"categories\" name=\"categories\">\\n           <option value=\"\">\\n            All Categories\\n           </option>\\n           <option value=\"165\">\\n            Feature Stories\\n           </option>\\n           <option value=\"19\">\\n            Press Releases\\n           </option>\\n           <option value=\"184\">\\n            Spotlights\\n           </option>\\n           <option value=\"204\">\\n            Status Reports\\n           </option>\\n          </select>\\n         </div>\\n        </section>\\n        <!-- react-text: 37 -->\\n        <!-- /react-text -->\\n       </header>\\n       <ul class=\"item_list \">\\n        <li class=\"slide\">\\n         <div class=\"image_and_description_container\">\\n          <a href=\"/news/8331/vice-president-pence-visits-jpl-previews-nasas-next-mars-mission-launch/\" target=\"_self\">\\n           <div class=\"rollover_description\">\\n            <div class=\"rollover_description_inner\">\\n             A week before NASA\\'s next Mars launch, Vice President Mike Pence toured the birthplace of the InSight Mars Lander and numerous other past, present and future space missions.\\n            </div>\\n            <div class=\"overlay_arrow\">\\n             <img alt=\"More\" src=\"/assets/overlay-arrow.png\"/>\\n            </div>\\n           </div>\\n           <div class=\"list_image\">\\n            <img alt=\"U.S. Vice President Mike Pence, right, is presented a plaque by JPL Director Michael Watkins during a tour of NASA\\'s Jet Propulsion Laboratory, Saturday, April 28, 2018 in Pasadena, California. The plaque presents a view of the Mars Science Laboratory rover Curiosity on the surface of Mars. Photo Credit: (NASA/Bill Ingalls)\" src=\"/system/news_items/list_view_images/8331_vicepresidentpencejplvisit-th.jpg\"/>\\n           </div>\\n           <div class=\"bottom_gradient\">\\n            <div>\\n             <h3>\\n              Vice President Pence Visits JPL, Previews NASA’s Next Mars Mission Launch\\n             </h3>\\n            </div>\\n           </div>\\n          </a>\\n          <div class=\"list_text\">\\n           <div class=\"list_date\">\\n            April 30, 2018\\n           </div>\\n           <div class=\"content_title\">\\n            <a href=\"/news/8331/vice-president-pence-visits-jpl-previews-nasas-next-mars-mission-launch/\" target=\"_self\">\\n             Vice President Pence Visits JPL, Previews NASA’s Next Mars Mission Launch\\n            </a>\\n           </div>\\n           <div class=\"article_teaser_body\">\\n            A week before NASA\\'s next Mars launch, Vice President Mike Pence toured the birthplace of the InSight Mars Lander and numerous other past, present and future space missions.\\n           </div>\\n          </div>\\n         </div>\\n        </li>\\n        <li class=\"slide\">\\n         <div class=\"image_and_description_container\">\\n          <a href=\"/news/8330/nasa-sets-sights-on-may-5-launch-of-insight-to-mars/\" target=\"_self\">\\n           <div class=\"rollover_description\">\\n            <div class=\"rollover_description_inner\">\\n             NASA’s next mission to Mars, InSight, is scheduled to launch Saturday, May 5, on a first-ever mission to study the heart of the Red Planet.\\n            </div>\\n            <div class=\"overlay_arrow\">\\n             <img alt=\"More\" src=\"/assets/overlay-arrow.png\"/>\\n            </div>\\n           </div>\\n           <div class=\"list_image\">\\n            <img alt=\"An artist\\'s rendering of a rocket launching with the InSight spacecraft in May.\" src=\"/system/news_items/list_view_images/8330_insight20180329-th.jpg\"/>\\n           </div>\\n           <div class=\"bottom_gradient\">\\n            <div>\\n             <h3>\\n              NASA Sets Sights on May 5 Launch of InSight to Mars\\n             </h3>\\n            </div>\\n           </div>\\n          </a>\\n          <div class=\"list_text\">\\n           <div class=\"list_date\">\\n            April 27, 2018\\n           </div>\\n           <div class=\"content_title\">\\n            <a href=\"/news/8330/nasa-sets-sights-on-may-5-launch-of-insight-to-mars/\" target=\"_self\">\\n             NASA Sets Sights on May 5 Launch of InSight to Mars\\n            </a>\\n           </div>\\n           <div class=\"article_teaser_body\">\\n            NASA’s next mission to Mars, InSight, is scheduled to launch Saturday, May 5, on a first-ever mission to study the heart of the Red Planet.\\n           </div>\\n          </div>\\n         </div>\\n        </li>\\n        <li class=\"slide\">\\n         <div class=\"image_and_description_container\">\\n          <a href=\"/news/8329/results-of-heat-shield-testing/\" target=\"_self\">\\n           <div class=\"rollover_description\">\\n            <div class=\"rollover_description_inner\">\\n             A post-test inspection of the composite structure for a heat shield to be used on the Mars 2020 mission revealed that a fracture occurred during structural testing.\\n            </div>\\n            <div class=\"overlay_arrow\">\\n             <img alt=\"More\" src=\"/assets/overlay-arrow.png\"/>\\n            </div>\\n           </div>\\n           <div class=\"list_image\">\\n            <img alt=\"Artist\\'s concept of the Mars Science Laboratory entry into the Martian atmosphere.\" src=\"/system/news_items/list_view_images/8329_PIA14835_320.jpg\"/>\\n           </div>\\n           <div class=\"bottom_gradient\">\\n            <div>\\n             <h3>\\n              Results of Heat Shield Testing\\n             </h3>\\n            </div>\\n           </div>\\n          </a>\\n          <div class=\"list_text\">\\n           <div class=\"list_date\">\\n            April 26, 2018\\n           </div>\\n           <div class=\"content_title\">\\n            <a href=\"/news/8329/results-of-heat-shield-testing/\" target=\"_self\">\\n             Results of Heat Shield Testing\\n            </a>\\n           </div>\\n           <div class=\"article_teaser_body\">\\n            A post-test inspection of the composite structure for a heat shield to be used on the Mars 2020 mission revealed that a fracture occurred during structural testing.\\n           </div>\\n          </div>\\n         </div>\\n        </li>\\n        <li class=\"slide\">\\n         <div class=\"image_and_description_container\">\\n          <a href=\"/news/8328/nasa-engineers-dream-big-with-small-spacecraft/\" target=\"_self\">\\n           <div class=\"rollover_description\">\\n            <div class=\"rollover_description_inner\">\\n             The first CubeSat mission to deep space will launch in May.\\n            </div>\\n            <div class=\"overlay_arrow\">\\n             <img alt=\"More\" src=\"/assets/overlay-arrow.png\"/>\\n            </div>\\n           </div>\\n           <div class=\"list_image\">\\n            <img alt=\"\" src=\"/system/news_items/list_view_images/8328_PIA22314_320.png\"/>\\n           </div>\\n           <div class=\"bottom_gradient\">\\n            <div>\\n             <h3>\\n              NASA Engineers Dream Big with Small Spacecraft\\n             </h3>\\n            </div>\\n           </div>\\n          </a>\\n          <div class=\"list_text\">\\n           <div class=\"list_date\">\\n            April 19, 2018\\n           </div>\\n           <div class=\"content_title\">\\n            <a href=\"/news/8328/nasa-engineers-dream-big-with-small-spacecraft/\" target=\"_self\">\\n             NASA Engineers Dream Big with Small Spacecraft\\n            </a>\\n           </div>\\n           <div class=\"article_teaser_body\">\\n            The first CubeSat mission to deep space will launch in May.\\n           </div>\\n          </div>\\n         </div>\\n        </li>\\n        <li class=\"slide\">\\n         <div class=\"image_and_description_container\">\\n          <a href=\"/news/8327/bound-for-mars-countdown-to-first-interplanetary-launch-from-california/\" target=\"_self\">\\n           <div class=\"rollover_description\">\\n            <div class=\"rollover_description_inner\">\\n             On May 5, millions of Californians may witness the historic first interplanetary launch from America’s West Coast.\\n            </div>\\n            <div class=\"overlay_arrow\">\\n             <img alt=\"More\" src=\"/assets/overlay-arrow.png\"/>\\n            </div>\\n           </div>\\n           <div class=\"list_image\">\\n            <img alt=\"\" src=\"/system/news_items/list_view_images/8327_InterplanetaryLaunch-320.jpg\"/>\\n           </div>\\n           <div class=\"bottom_gradient\">\\n            <div>\\n             <h3>\\n              Bound for Mars: Countdown to First Interplanetary Launch from California\\n             </h3>\\n            </div>\\n           </div>\\n          </a>\\n          <div class=\"list_text\">\\n           <div class=\"list_date\">\\n            April  6, 2018\\n           </div>\\n           <div class=\"content_title\">\\n            <a href=\"/news/8327/bound-for-mars-countdown-to-first-interplanetary-launch-from-california/\" target=\"_self\">\\n             Bound for Mars: Countdown to First Interplanetary Launch from California\\n            </a>\\n           </div>\\n           <div class=\"article_teaser_body\">\\n            On May 5, millions of Californians may witness the historic first interplanetary launch from America’s West Coast.\\n           </div>\\n          </div>\\n         </div>\\n        </li>\\n        <li class=\"slide\">\\n         <div class=\"image_and_description_container\">\\n          <a href=\"/news/8326/nasa-invests-in-visionary-technology/\" target=\"_self\">\\n           <div class=\"rollover_description\">\\n            <div class=\"rollover_description_inner\">\\n             NASA is investing in technology concepts, including several from JPL, that may one day be used for future space exploration missions.\\n            </div>\\n            <div class=\"overlay_arrow\">\\n             <img alt=\"More\" src=\"/assets/overlay-arrow.png\"/>\\n            </div>\\n           </div>\\n           <div class=\"list_image\">\\n            <img alt=\"NASA is investing in technology concepts, including several from JPL, that may one day be used for future space exploration missions.\" src=\"/system/news_items/list_view_images/8326_niac320.jpg\"/>\\n           </div>\\n           <div class=\"bottom_gradient\">\\n            <div>\\n             <h3>\\n              NASA Invests in Visionary Technology\\n             </h3>\\n            </div>\\n           </div>\\n          </a>\\n          <div class=\"list_text\">\\n           <div class=\"list_date\">\\n            March 30, 2018\\n           </div>\\n           <div class=\"content_title\">\\n            <a href=\"/news/8326/nasa-invests-in-visionary-technology/\" target=\"_self\">\\n             NASA Invests in Visionary Technology\\n            </a>\\n           </div>\\n           <div class=\"article_teaser_body\">\\n            NASA is investing in technology concepts, including several from JPL, that may one day be used for future space exploration missions.\\n           </div>\\n          </div>\\n         </div>\\n        </li>\\n        <li class=\"slide\">\\n         <div class=\"image_and_description_container\">\\n          <a href=\"/news/8325/nasa-is-ready-to-study-the-heart-of-mars/\" target=\"_self\">\\n           <div class=\"rollover_description\">\\n            <div class=\"rollover_description_inner\">\\n             NASA is about to go on a journey to study the center of Mars.\\n            </div>\\n            <div class=\"overlay_arrow\">\\n             <img alt=\"More\" src=\"/assets/overlay-arrow.png\"/>\\n            </div>\\n           </div>\\n           <div class=\"list_image\">\\n            <img alt=\"An artist\\'s rendering of the InSight spacecraft\\'s cruise stage entering the Martian atmosphere.\" src=\"/system/news_items/list_view_images/8325_insight20180329b_320.jpg\"/>\\n           </div>\\n           <div class=\"bottom_gradient\">\\n            <div>\\n             <h3>\\n              NASA is Ready to Study the Heart of Mars\\n             </h3>\\n            </div>\\n           </div>\\n          </a>\\n          <div class=\"list_text\">\\n           <div class=\"list_date\">\\n            March 29, 2018\\n           </div>\\n           <div class=\"content_title\">\\n            <a href=\"/news/8325/nasa-is-ready-to-study-the-heart-of-mars/\" target=\"_self\">\\n             NASA is Ready to Study the Heart of Mars\\n            </a>\\n           </div>\\n           <div class=\"article_teaser_body\">\\n            NASA is about to go on a journey to study the center of Mars.\\n           </div>\\n          </div>\\n         </div>\\n        </li>\\n        <li class=\"slide\">\\n         <div class=\"image_and_description_container\">\\n          <a href=\"/news/8324/marsquakes-could-shake-up-planetary-science/\" target=\"_self\">\\n           <div class=\"rollover_description\">\\n            <div class=\"rollover_description_inner\">\\n             InSight, the next mission to the Red Planet, will use seismology to see into the depths of Mars.\\n            </div>\\n            <div class=\"overlay_arrow\">\\n             <img alt=\"More\" src=\"/assets/overlay-arrow.png\"/>\\n            </div>\\n           </div>\\n           <div class=\"list_image\">\\n            <img alt=\"Inner Structure of Mars\" src=\"/system/news_items/list_view_images/8324_PIA16078-320.jpg\"/>\\n           </div>\\n           <div class=\"bottom_gradient\">\\n            <div>\\n             <h3>\\n              ‘Marsquakes’ Could Shake Up Planetary Science\\n             </h3>\\n            </div>\\n           </div>\\n          </a>\\n          <div class=\"list_text\">\\n           <div class=\"list_date\">\\n            March 28, 2018\\n           </div>\\n           <div class=\"content_title\">\\n            <a href=\"/news/8324/marsquakes-could-shake-up-planetary-science/\" target=\"_self\">\\n             ‘Marsquakes’ Could Shake Up Planetary Science\\n            </a>\\n           </div>\\n           <div class=\"article_teaser_body\">\\n            InSight, the next mission to the Red Planet, will use seismology to see into the depths of Mars.\\n           </div>\\n          </div>\\n         </div>\\n        </li>\\n        <li class=\"slide\">\\n         <div class=\"image_and_description_container\">\\n          <a href=\"/news/8323/mars-curiosity-celebrates-sol-2000/\" target=\"_self\">\\n           <div class=\"rollover_description\">\\n            <div class=\"rollover_description_inner\">\\n             NASA\\'s Mars Curiosity rover just hit a new milestone: its two-thousandth Martian day on the Red Planet. An image mosaic taken recently offers a preview of what comes next.\\n            </div>\\n            <div class=\"overlay_arrow\">\\n             <img alt=\"More\" src=\"/assets/overlay-arrow.png\"/>\\n            </div>\\n           </div>\\n           <div class=\"list_image\">\\n            <img alt=\"rugged landscape of hills \" src=\"/system/news_items/list_view_images/8323_PIA22313_320.jpg\"/>\\n           </div>\\n           <div class=\"bottom_gradient\">\\n            <div>\\n             <h3>\\n              Mars Curiosity Celebrates Sol 2,000\\n             </h3>\\n            </div>\\n           </div>\\n          </a>\\n          <div class=\"list_text\">\\n           <div class=\"list_date\">\\n            March 22, 2018\\n           </div>\\n           <div class=\"content_title\">\\n            <a href=\"/news/8323/mars-curiosity-celebrates-sol-2000/\" target=\"_self\">\\n             Mars Curiosity Celebrates Sol 2,000\\n            </a>\\n           </div>\\n           <div class=\"article_teaser_body\">\\n            NASA\\'s Mars Curiosity rover just hit a new milestone: its two-thousandth Martian day on the Red Planet. An image mosaic taken recently offers a preview of what comes next.\\n           </div>\\n          </div>\\n         </div>\\n        </li>\\n        <li class=\"slide\">\\n         <div class=\"image_and_description_container\">\\n          <a href=\"/news/8322/nasa-briefing-on-first-mission-to-study-mars-interior/\" target=\"_self\">\\n           <div class=\"rollover_description\">\\n            <div class=\"rollover_description_inner\">\\n             NASA’s next mission to Mars will be the topic of a media briefing Thursday, March 29, at JPL. The briefing will air live on NASA Television and the agency’s website.\\n            </div>\\n            <div class=\"overlay_arrow\">\\n             <img alt=\"More\" src=\"/assets/overlay-arrow.png\"/>\\n            </div>\\n           </div>\\n           <div class=\"list_image\">\\n            <img alt=\"An artist\\'s rendition of the InSight lander operating on the surface of Mars. \" src=\"/system/news_items/list_view_images/8322_PIA22228_320.jpg\"/>\\n           </div>\\n           <div class=\"bottom_gradient\">\\n            <div>\\n             <h3>\\n              NASA Briefing on First Mission to Study Mars Interior\\n             </h3>\\n            </div>\\n           </div>\\n          </a>\\n          <div class=\"list_text\">\\n           <div class=\"list_date\">\\n            March 22, 2018\\n           </div>\\n           <div class=\"content_title\">\\n            <a href=\"/news/8322/nasa-briefing-on-first-mission-to-study-mars-interior/\" target=\"_self\">\\n             NASA Briefing on First Mission to Study Mars Interior\\n            </a>\\n           </div>\\n           <div class=\"article_teaser_body\">\\n            NASA’s next mission to Mars will be the topic of a media briefing Thursday, March 29, at JPL. The briefing will air live on NASA Television and the agency’s website.\\n           </div>\\n          </div>\\n         </div>\\n        </li>\\n        <li class=\"slide\">\\n         <div class=\"image_and_description_container\">\\n          <a href=\"/news/8321/new-ar-mobile-app-features-3-d-nasa-spacecraft/\" target=\"_self\">\\n           <div class=\"rollover_description\">\\n            <div class=\"rollover_description_inner\">\\n             NASA spacecraft travel to far-off destinations in space, but a new mobile app produced by NASA\\'s Jet Propulsion Laboratory, Pasadena, California, brings spacecraft to users.\\n            </div>\\n            <div class=\"overlay_arrow\">\\n             <img alt=\"More\" src=\"/assets/overlay-arrow.png\"/>\\n            </div>\\n           </div>\\n           <div class=\"list_image\">\\n            <img alt=\"Free Spacecraft AR app uses Google ARCore technology\" src=\"/system/news_items/list_view_images/8321_list_image.jpg\"/>\\n           </div>\\n           <div class=\"bottom_gradient\">\\n            <div>\\n             <h3>\\n              New \\'AR\\' Mobile App Features 3-D NASA Spacecraft\\n             </h3>\\n            </div>\\n           </div>\\n          </a>\\n          <div class=\"list_text\">\\n           <div class=\"list_date\">\\n            March 20, 2018\\n           </div>\\n           <div class=\"content_title\">\\n            <a href=\"/news/8321/new-ar-mobile-app-features-3-d-nasa-spacecraft/\" target=\"_self\">\\n             New \\'AR\\' Mobile App Features 3-D NASA Spacecraft\\n            </a>\\n           </div>\\n           <div class=\"article_teaser_body\">\\n            NASA spacecraft travel to far-off destinations in space, but a new mobile app produced by NASA\\'s Jet Propulsion Laboratory, Pasadena, California, brings spacecraft to users.\\n           </div>\\n          </div>\\n         </div>\\n        </li>\\n        <li class=\"slide\">\\n         <div class=\"image_and_description_container\">\\n          <a href=\"/news/8319/nasa-mars-mission-tours-california/\" target=\"_self\">\\n           <div class=\"rollover_description\">\\n            <div class=\"rollover_description_inner\">\\n             Scientists and engineers with NASA\\'s next mission to Mars will be touring California cities starting this month.\\n            </div>\\n            <div class=\"overlay_arrow\">\\n             <img alt=\"More\" src=\"/assets/overlay-arrow.png\"/>\\n            </div>\\n           </div>\\n           <div class=\"list_image\">\\n            <img alt=\"This artist\\'s concept shows the InSight lander, its sensors, cameras and instruments\" src=\"/system/news_items/list_view_images/8319_PIA22227_320x240.jpg\"/>\\n           </div>\\n           <div class=\"bottom_gradient\">\\n            <div>\\n             <h3>\\n              NASA Mars Mission Tours California\\n             </h3>\\n            </div>\\n           </div>\\n          </a>\\n          <div class=\"list_text\">\\n           <div class=\"list_date\">\\n            March 14, 2018\\n           </div>\\n           <div class=\"content_title\">\\n            <a href=\"/news/8319/nasa-mars-mission-tours-california/\" target=\"_self\">\\n             NASA Mars Mission Tours California\\n            </a>\\n           </div>\\n           <div class=\"article_teaser_body\">\\n            Scientists and engineers with NASA\\'s next mission to Mars will be touring California cities starting this month.\\n           </div>\\n          </div>\\n         </div>\\n        </li>\\n        <li class=\"slide\">\\n         <div class=\"image_and_description_container\">\\n          <a href=\"/news/8318/next-nasa-mars-rover-reaches-key-manufacturing-milestone/\" target=\"_self\">\\n           <div class=\"rollover_description\">\\n            <div class=\"rollover_description_inner\">\\n             NASA\\'s Mars 2020 mission has begun the assembly, test and launch operations (ATLO) phase of its development, on track for a July 2020 launch to Mars.\\n            </div>\\n            <div class=\"overlay_arrow\">\\n             <img alt=\"More\" src=\"/assets/overlay-arrow.png\"/>\\n            </div>\\n           </div>\\n           <div class=\"list_image\">\\n            <img alt=\"A technician works on the descent stage for NASA’s Mars 2020 mission inside JPL’s Spacecraft Assembly Facility. \" src=\"/system/news_items/list_view_images/8318_PIA22342_320x240.jpg\"/>\\n           </div>\\n           <div class=\"bottom_gradient\">\\n            <div>\\n             <h3>\\n              Next NASA Mars Rover Reaches Key Manufacturing Milestone\\n             </h3>\\n            </div>\\n           </div>\\n          </a>\\n          <div class=\"list_text\">\\n           <div class=\"list_date\">\\n            March 13, 2018\\n           </div>\\n           <div class=\"content_title\">\\n            <a href=\"/news/8318/next-nasa-mars-rover-reaches-key-manufacturing-milestone/\" target=\"_self\">\\n             Next NASA Mars Rover Reaches Key Manufacturing Milestone\\n            </a>\\n           </div>\\n           <div class=\"article_teaser_body\">\\n            NASA\\'s Mars 2020 mission has begun the assembly, test and launch operations (ATLO) phase of its development, on track for a July 2020 launch to Mars.\\n           </div>\\n          </div>\\n         </div>\\n        </li>\\n        <li class=\"slide\">\\n         <div class=\"image_and_description_container\">\\n          <a href=\"/news/8317/witness-first-mars-launch-from-west-coast/\" target=\"_self\">\\n           <div class=\"rollover_description\">\\n            <div class=\"rollover_description_inner\">\\n             NASA invites digital creators to apply for social media credentials to cover the launch of the InSight mission to Mars, May 3-5, at California\\'s Vandenberg Air Force Base.\\n            </div>\\n            <div class=\"overlay_arrow\">\\n             <img alt=\"More\" src=\"/assets/overlay-arrow.png\"/>\\n            </div>\\n           </div>\\n           <div class=\"list_image\">\\n            <img alt=\"Launch of LDCM from Vandenberg AFB, California\" src=\"/system/news_items/list_view_images/8317_list_image.jpg\"/>\\n           </div>\\n           <div class=\"bottom_gradient\">\\n            <div>\\n             <h3>\\n              Witness First Mars Launch from West Coast\\n             </h3>\\n            </div>\\n           </div>\\n          </a>\\n          <div class=\"list_text\">\\n           <div class=\"list_date\">\\n            March 12, 2018\\n           </div>\\n           <div class=\"content_title\">\\n            <a href=\"/news/8317/witness-first-mars-launch-from-west-coast/\" target=\"_self\">\\n             Witness First Mars Launch from West Coast\\n            </a>\\n           </div>\\n           <div class=\"article_teaser_body\">\\n            NASA invites digital creators to apply for social media credentials to cover the launch of the InSight mission to Mars, May 3-5, at California\\'s Vandenberg Air Force Base.\\n           </div>\\n          </div>\\n         </div>\\n        </li>\\n        <li class=\"slide\">\\n         <div class=\"image_and_description_container\">\\n          <a href=\"/news/8316/360-video-tour-a-mars-robot-test-lab/\" target=\"_self\">\\n           <div class=\"rollover_description\">\\n            <div class=\"rollover_description_inner\">\\n             Engineers are practicing operations for NASA\\'s Mars InSight lander, which is launching this spring.\\n            </div>\\n            <div class=\"overlay_arrow\">\\n             <img alt=\"More\" src=\"/assets/overlay-arrow.png\"/>\\n            </div>\\n           </div>\\n           <div class=\"list_image\">\\n            <img alt=\"\" src=\"/system/news_items/list_view_images/8316_InSight_320.jpg\"/>\\n           </div>\\n           <div class=\"bottom_gradient\">\\n            <div>\\n             <h3>\\n              360 Video: Tour a Mars Robot Test Lab\\n             </h3>\\n            </div>\\n           </div>\\n          </a>\\n          <div class=\"list_text\">\\n           <div class=\"list_date\">\\n            March  8, 2018\\n           </div>\\n           <div class=\"content_title\">\\n            <a href=\"/news/8316/360-video-tour-a-mars-robot-test-lab/\" target=\"_self\">\\n             360 Video: Tour a Mars Robot Test Lab\\n            </a>\\n           </div>\\n           <div class=\"article_teaser_body\">\\n            Engineers are practicing operations for NASA\\'s Mars InSight lander, which is launching this spring.\\n           </div>\\n          </div>\\n         </div>\\n        </li>\\n        <li class=\"slide\">\\n         <div class=\"image_and_description_container\">\\n          <a href=\"/news/8315/nasa-insight-mission-to-mars-arrives-at-launch-site/\" target=\"_self\">\\n           <div class=\"rollover_description\">\\n            <div class=\"rollover_description_inner\">\\n             NASA\\'s InSight spacecraft has arrived at Vandenberg Air Force Base in central California to begin final preparations for a launch this May.\\n            </div>\\n            <div class=\"overlay_arrow\">\\n             <img alt=\"More\" src=\"/assets/overlay-arrow.png\"/>\\n            </div>\\n           </div>\\n           <div class=\"list_image\">\\n            <img alt=\"crate being loaded into military transport plane\" src=\"/system/news_items/list_view_images/8315_list_image.jpg\"/>\\n           </div>\\n           <div class=\"bottom_gradient\">\\n            <div>\\n             <h3>\\n              NASA InSight Mission to Mars Arrives at Launch Site\\n             </h3>\\n            </div>\\n           </div>\\n          </a>\\n          <div class=\"list_text\">\\n           <div class=\"list_date\">\\n            February 28, 2018\\n           </div>\\n           <div class=\"content_title\">\\n            <a href=\"/news/8315/nasa-insight-mission-to-mars-arrives-at-launch-site/\" target=\"_self\">\\n             NASA InSight Mission to Mars Arrives at Launch Site\\n            </a>\\n           </div>\\n           <div class=\"article_teaser_body\">\\n            NASA\\'s InSight spacecraft has arrived at Vandenberg Air Force Base in central California to begin final preparations for a launch this May.\\n           </div>\\n          </div>\\n         </div>\\n        </li>\\n        <li class=\"slide\">\\n         <div class=\"image_and_description_container\">\\n          <a href=\"/news/8314/curiosity-tests-a-new-way-to-drill-on-mars/\" target=\"_self\">\\n           <div class=\"rollover_description\">\\n            <div class=\"rollover_description_inner\">\\n             NASA\\'s Mars Curiosity rover has conducted the first test of a new drilling technique on the Red Planet since its drill stopped working reliably.\\n            </div>\\n            <div class=\"overlay_arrow\">\\n             <img alt=\"More\" src=\"/assets/overlay-arrow.png\"/>\\n            </div>\\n           </div>\\n           <div class=\"list_image\">\\n            <img alt=\"\" src=\"/system/news_items/list_view_images/8314_PIA22224_320.jpg\"/>\\n           </div>\\n           <div class=\"bottom_gradient\">\\n            <div>\\n             <h3>\\n              Curiosity Tests a New Way to Drill on Mars\\n             </h3>\\n            </div>\\n           </div>\\n          </a>\\n          <div class=\"list_text\">\\n           <div class=\"list_date\">\\n            February 28, 2018\\n           </div>\\n           <div class=\"content_title\">\\n            <a href=\"/news/8314/curiosity-tests-a-new-way-to-drill-on-mars/\" target=\"_self\">\\n             Curiosity Tests a New Way to Drill on Mars\\n            </a>\\n           </div>\\n           <div class=\"article_teaser_body\">\\n            NASA\\'s Mars Curiosity rover has conducted the first test of a new drilling technique on the Red Planet since its drill stopped working reliably.\\n           </div>\\n          </div>\\n         </div>\\n        </li>\\n        <li class=\"slide\">\\n         <div class=\"image_and_description_container\">\\n          <a href=\"/news/8313/seven-ways-mars-insight-is-different/\" target=\"_self\">\\n           <div class=\"rollover_description\">\\n            <div class=\"rollover_description_inner\">\\n             NASA has a long and successful track record at Mars. Since 1965, it has flown by, orbited, landed and roved across the surface of the Red Planet. What can InSight -- planned for launch in May -- do that hasn’t been done before?\\n            </div>\\n            <div class=\"overlay_arrow\">\\n             <img alt=\"More\" src=\"/assets/overlay-arrow.png\"/>\\n            </div>\\n           </div>\\n           <div class=\"list_image\">\\n            <img alt=\"\" src=\"/system/news_items/list_view_images/8313_PIA22228_320.jpg\"/>\\n           </div>\\n           <div class=\"bottom_gradient\">\\n            <div>\\n             <h3>\\n              Seven Ways Mars InSight is Different\\n             </h3>\\n            </div>\\n           </div>\\n          </a>\\n          <div class=\"list_text\">\\n           <div class=\"list_date\">\\n            February 22, 2018\\n           </div>\\n           <div class=\"content_title\">\\n            <a href=\"/news/8313/seven-ways-mars-insight-is-different/\" target=\"_self\">\\n             Seven Ways Mars InSight is Different\\n            </a>\\n           </div>\\n           <div class=\"article_teaser_body\">\\n            NASA has a long and successful track record at Mars. Since 1965, it has flown by, orbited, landed and roved across the surface of the Red Planet. What can InSight -- planned for launch in May -- do that hasn’t been done before?\\n           </div>\\n          </div>\\n         </div>\\n        </li>\\n        <li class=\"slide\">\\n         <div class=\"image_and_description_container\">\\n          <a href=\"/news/8312/nearly-a-decade-after-mars-phoenix-landed-another-look/\" target=\"_self\">\\n           <div class=\"rollover_description\">\\n            <div class=\"rollover_description_inner\">\\n             A recent view from Mars orbit of the site where NASA\\'s Phoenix Mars mission landed on far-northern Mars nearly a decade ago captures changes.\\n            </div>\\n            <div class=\"overlay_arrow\">\\n             <img alt=\"More\" src=\"/assets/overlay-arrow.png\"/>\\n            </div>\\n           </div>\\n           <div class=\"list_image\">\\n            <img alt=\"animation of two alternating views of barren martian landscape\" src=\"/system/news_items/list_view_images/8312_PIA22223_320.jpg\"/>\\n           </div>\\n           <div class=\"bottom_gradient\">\\n            <div>\\n             <h3>\\n              Nearly a Decade After Mars Phoenix Landed, Another Look\\n             </h3>\\n            </div>\\n           </div>\\n          </a>\\n          <div class=\"list_text\">\\n           <div class=\"list_date\">\\n            February 20, 2018\\n           </div>\\n           <div class=\"content_title\">\\n            <a href=\"/news/8312/nearly-a-decade-after-mars-phoenix-landed-another-look/\" target=\"_self\">\\n             Nearly a Decade After Mars Phoenix Landed, Another Look\\n            </a>\\n           </div>\\n           <div class=\"article_teaser_body\">\\n            A recent view from Mars orbit of the site where NASA\\'s Phoenix Mars mission landed on far-northern Mars nearly a decade ago captures changes.\\n           </div>\\n          </div>\\n         </div>\\n        </li>\\n        <li class=\"slide\">\\n         <div class=\"image_and_description_container\">\\n          <a href=\"/news/8311/spacecraft-exits-safe-mode/\" target=\"_self\">\\n           <div class=\"rollover_description\">\\n            <div class=\"rollover_description_inner\">\\n             Diagnostic work is the focus for resuming service and exiting safe standby status.\\n            </div>\\n            <div class=\"overlay_arrow\">\\n             <img alt=\"More\" src=\"/assets/overlay-arrow.png\"/>\\n            </div>\\n           </div>\\n           <div class=\"list_image\">\\n            <img alt=\"spacecraft high over martian surface\" src=\"/system/news_items/list_view_images/8311_PIA05490_320.jpg\"/>\\n           </div>\\n           <div class=\"bottom_gradient\">\\n            <div>\\n             <h3>\\n              Spacecraft Exits Safe Mode\\n             </h3>\\n            </div>\\n           </div>\\n          </a>\\n          <div class=\"list_text\">\\n           <div class=\"list_date\">\\n            February 16, 2018\\n           </div>\\n           <div class=\"content_title\">\\n            <a href=\"/news/8311/spacecraft-exits-safe-mode/\" target=\"_self\">\\n             Spacecraft Exits Safe Mode\\n            </a>\\n           </div>\\n           <div class=\"article_teaser_body\">\\n            Diagnostic work is the focus for resuming service and exiting safe standby status.\\n           </div>\\n          </div>\\n         </div>\\n        </li>\\n        <li class=\"slide\">\\n         <div class=\"image_and_description_container\">\\n          <a href=\"/news/8310/5000-days-on-mars-solar-powered-rover-approaching-5000th-martian-dawn/\" target=\"_self\">\\n           <div class=\"rollover_description\">\\n            <div class=\"rollover_description_inner\">\\n             The Sun will rise on NASA\\'s solar-powered Mars rover Opportunity for the 5,000th time on Saturday, sending rays of energy to a robot that continues to provide revelations.\\n            </div>\\n            <div class=\"overlay_arrow\">\\n             <img alt=\"More\" src=\"/assets/overlay-arrow.png\"/>\\n            </div>\\n           </div>\\n           <div class=\"list_image\">\\n            <img alt=\"map of rugged slope\" src=\"/system/news_items/list_view_images/8310_pia22221_320.jpg\"/>\\n           </div>\\n           <div class=\"bottom_gradient\">\\n            <div>\\n             <h3>\\n              5,000 Days on Mars; Solar-Powered Rover Approaching 5,000th Martian Dawn\\n             </h3>\\n            </div>\\n           </div>\\n          </a>\\n          <div class=\"list_text\">\\n           <div class=\"list_date\">\\n            February 15, 2018\\n           </div>\\n           <div class=\"content_title\">\\n            <a href=\"/news/8310/5000-days-on-mars-solar-powered-rover-approaching-5000th-martian-dawn/\" target=\"_self\">\\n             5,000 Days on Mars; Solar-Powered Rover Approaching 5,000th Martian Dawn\\n            </a>\\n           </div>\\n           <div class=\"article_teaser_body\">\\n            The Sun will rise on NASA\\'s solar-powered Mars rover Opportunity for the 5,000th time on Saturday, sending rays of energy to a robot that continues to provide revelations.\\n           </div>\\n          </div>\\n         </div>\\n        </li>\\n        <li class=\"slide\">\\n         <div class=\"image_and_description_container\">\\n          <a href=\"/news/8309/long-lived-mars-rover-opportunity-keeps-finding-surprises/\" target=\"_self\">\\n           <div class=\"rollover_description\">\\n            <div class=\"rollover_description_inner\">\\n             NASA\\'s Mars Exploration Rover Opportunity keeps providing surprises about the Red Planet, most recently with observations of possible \"rock stripes.\"\\n            </div>\\n            <div class=\"overlay_arrow\">\\n             <img alt=\"More\" src=\"/assets/overlay-arrow.png\"/>\\n            </div>\\n           </div>\\n           <div class=\"list_image\">\\n            <img alt=\"rocky slope\" src=\"/system/news_items/list_view_images/8309_PIA22217_320.jpg\"/>\\n           </div>\\n           <div class=\"bottom_gradient\">\\n            <div>\\n             <h3>\\n              Long-Lived Mars Rover Opportunity Keeps Finding Surprises\\n             </h3>\\n            </div>\\n           </div>\\n          </a>\\n          <div class=\"list_text\">\\n           <div class=\"list_date\">\\n            February 15, 2018\\n           </div>\\n           <div class=\"content_title\">\\n            <a href=\"/news/8309/long-lived-mars-rover-opportunity-keeps-finding-surprises/\" target=\"_self\">\\n             Long-Lived Mars Rover Opportunity Keeps Finding Surprises\\n            </a>\\n           </div>\\n           <div class=\"article_teaser_body\">\\n            NASA\\'s Mars Exploration Rover Opportunity keeps providing surprises about the Red Planet, most recently with observations of possible \"rock stripes.\"\\n           </div>\\n          </div>\\n         </div>\\n        </li>\\n        <li class=\"slide\">\\n         <div class=\"image_and_description_container\">\\n          <a href=\"/news/8308/a-piece-of-mars-is-going-home/\" target=\"_self\">\\n           <div class=\"rollover_description\">\\n            <div class=\"rollover_description_inner\">\\n             When it launches in 2020, NASA\\'s next Mars rover will carry a chunk of Martian meteorite on board.\\n            </div>\\n            <div class=\"overlay_arrow\">\\n             <img alt=\"More\" src=\"/assets/overlay-arrow.png\"/>\\n            </div>\\n           </div>\\n           <div class=\"list_image\">\\n            <img alt=\"gloved hand holding rock\" src=\"/system/news_items/list_view_images/8308_PIA22245_320.JPG\"/>\\n           </div>\\n           <div class=\"bottom_gradient\">\\n            <div>\\n             <h3>\\n              A Piece of Mars is Going Home\\n             </h3>\\n            </div>\\n           </div>\\n          </a>\\n          <div class=\"list_text\">\\n           <div class=\"list_date\">\\n            February 13, 2018\\n           </div>\\n           <div class=\"content_title\">\\n            <a href=\"/news/8308/a-piece-of-mars-is-going-home/\" target=\"_self\">\\n             A Piece of Mars is Going Home\\n            </a>\\n           </div>\\n           <div class=\"article_teaser_body\">\\n            When it launches in 2020, NASA\\'s next Mars rover will carry a chunk of Martian meteorite on board.\\n           </div>\\n          </div>\\n         </div>\\n        </li>\\n        <li class=\"slide\">\\n         <div class=\"image_and_description_container\">\\n          <a href=\"/news/8307/mars-reconnaissance-orbiter-preparing-for-years-ahead/\" target=\"_self\">\\n           <div class=\"rollover_description\">\\n            <div class=\"rollover_description_inner\">\\n             NASA\\'s Mars Reconnaissance Orbiter (MRO) has begun extra stargazing to help the space agency accomplish advances in Mars exploration over the next decade.\\n            </div>\\n            <div class=\"overlay_arrow\">\\n             <img alt=\"More\" src=\"/assets/overlay-arrow.png\"/>\\n            </div>\\n           </div>\\n           <div class=\"list_image\">\\n            <img alt=\"spacecraft over mars\" src=\"/system/news_items/list_view_images/8307_pia05490_320.jpg\"/>\\n           </div>\\n           <div class=\"bottom_gradient\">\\n            <div>\\n             <h3>\\n              Mars Reconnaissance Orbiter Preparing for Years Ahead\\n             </h3>\\n            </div>\\n           </div>\\n          </a>\\n          <div class=\"list_text\">\\n           <div class=\"list_date\">\\n            February  9, 2018\\n           </div>\\n           <div class=\"content_title\">\\n            <a href=\"/news/8307/mars-reconnaissance-orbiter-preparing-for-years-ahead/\" target=\"_self\">\\n             Mars Reconnaissance Orbiter Preparing for Years Ahead\\n            </a>\\n           </div>\\n           <div class=\"article_teaser_body\">\\n            NASA\\'s Mars Reconnaissance Orbiter (MRO) has begun extra stargazing to help the space agency accomplish advances in Mars exploration over the next decade.\\n           </div>\\n          </div>\\n         </div>\\n        </li>\\n        <li class=\"slide\">\\n         <div class=\"image_and_description_container\">\\n          <a href=\"/news/8305/tiny-crystal-shapes-get-close-look-from-mars-rover/\" target=\"_self\">\\n           <div class=\"rollover_description\">\\n            <div class=\"rollover_description_inner\">\\n             Star-shaped, tiny, dark bumps in the fine-layered bright bedrock of a Martian ridge are drawing close inspection by NASA\\'s Curiosity Mars rover.\\n            </div>\\n            <div class=\"overlay_arrow\">\\n             <img alt=\"More\" src=\"/assets/overlay-arrow.png\"/>\\n            </div>\\n           </div>\\n           <div class=\"list_image\">\\n            <img alt=\"\" src=\"/system/news_items/list_view_images/8305_pia22213_320.jpg\"/>\\n           </div>\\n           <div class=\"bottom_gradient\">\\n            <div>\\n             <h3>\\n              Tiny Crystal Shapes Get Close Look From Mars Rover\\n             </h3>\\n            </div>\\n           </div>\\n          </a>\\n          <div class=\"list_text\">\\n           <div class=\"list_date\">\\n            February  8, 2018\\n           </div>\\n           <div class=\"content_title\">\\n            <a href=\"/news/8305/tiny-crystal-shapes-get-close-look-from-mars-rover/\" target=\"_self\">\\n             Tiny Crystal Shapes Get Close Look From Mars Rover\\n            </a>\\n           </div>\\n           <div class=\"article_teaser_body\">\\n            Star-shaped, tiny, dark bumps in the fine-layered bright bedrock of a Martian ridge are drawing close inspection by NASA\\'s Curiosity Mars rover.\\n           </div>\\n          </div>\\n         </div>\\n        </li>\\n        <li class=\"slide\">\\n         <div class=\"image_and_description_container\">\\n          <a href=\"/news/8304/nasa-tests-atomic-clock-for-deep-space-navigation/\" target=\"_self\">\\n           <div class=\"rollover_description\">\\n            <div class=\"rollover_description_inner\">\\n             Project could help spacecraft keep time more efficiently and allow ground stations to better track multiple satellites at once near crowded areas like Mars.\\n            </div>\\n            <div class=\"overlay_arrow\">\\n             <img alt=\"More\" src=\"/assets/overlay-arrow.png\"/>\\n            </div>\\n           </div>\\n           <div class=\"list_image\">\\n            <img alt=\"spacecraft in earth orbit\" src=\"/system/news_items/list_view_images/8304_dsac20180206_320.jpg\"/>\\n           </div>\\n           <div class=\"bottom_gradient\">\\n            <div>\\n             <h3>\\n              NASA Tests Atomic Clock for Deep Space Navigation\\n             </h3>\\n            </div>\\n           </div>\\n          </a>\\n          <div class=\"list_text\">\\n           <div class=\"list_date\">\\n            February  6, 2018\\n           </div>\\n           <div class=\"content_title\">\\n            <a href=\"/news/8304/nasa-tests-atomic-clock-for-deep-space-navigation/\" target=\"_self\">\\n             NASA Tests Atomic Clock for Deep Space Navigation\\n            </a>\\n           </div>\\n           <div class=\"article_teaser_body\">\\n            Project could help spacecraft keep time more efficiently and allow ground stations to better track multiple satellites at once near crowded areas like Mars.\\n           </div>\\n          </div>\\n         </div>\\n        </li>\\n        <li class=\"slide\">\\n         <div class=\"image_and_description_container\">\\n          <a href=\"/news/8303/mount-sharp-photobombs-mars-curiosity-rover/\" target=\"_self\">\\n           <div class=\"rollover_description\">\\n            <div class=\"rollover_description_inner\">\\n             A new self-portrait of NASA\\'s Curiosity Mars rover shows the vehicle on Vera Rubin Ridge.\\n            </div>\\n            <div class=\"overlay_arrow\">\\n             <img alt=\"More\" src=\"/assets/overlay-arrow.png\"/>\\n            </div>\\n           </div>\\n           <div class=\"list_image\">\\n            <img alt=\"rover on surface of mars\" src=\"/system/news_items/list_view_images/8303_pia22207_320.jpg\"/>\\n           </div>\\n           <div class=\"bottom_gradient\">\\n            <div>\\n             <h3>\\n              Mount Sharp \\'Photobombs\\' Mars Curiosity Rover\\n             </h3>\\n            </div>\\n           </div>\\n          </a>\\n          <div class=\"list_text\">\\n           <div class=\"list_date\">\\n            January 31, 2018\\n           </div>\\n           <div class=\"content_title\">\\n            <a href=\"/news/8303/mount-sharp-photobombs-mars-curiosity-rover/\" target=\"_self\">\\n             Mount Sharp \\'Photobombs\\' Mars Curiosity Rover\\n            </a>\\n           </div>\\n           <div class=\"article_teaser_body\">\\n            A new self-portrait of NASA\\'s Curiosity Mars rover shows the vehicle on Vera Rubin Ridge.\\n           </div>\\n          </div>\\n         </div>\\n        </li>\\n        <li class=\"slide\">\\n         <div class=\"image_and_description_container\">\\n          <a href=\"/news/8302/vista-from-mars-rover-looks-back-over-journey-so-far/\" target=\"_self\">\\n           <div class=\"rollover_description\">\\n            <div class=\"rollover_description_inner\">\\n             A panoramic image that NASA\\'s Curiosity Mars rover took from a mountainside ridge provides a sweeping vista of key sites visited since the rover\\'s 2012 landing, and the towering surroundings.\\n            </div>\\n            <div class=\"overlay_arrow\">\\n             <img alt=\"More\" src=\"/assets/overlay-arrow.png\"/>\\n            </div>\\n           </div>\\n           <div class=\"list_image\">\\n            <img alt=\"\" src=\"/system/news_items/list_view_images/8302_pia22210_left-eye-sol-1856-pan-plain_320x240.jpg\"/>\\n           </div>\\n           <div class=\"bottom_gradient\">\\n            <div>\\n             <h3>\\n              Vista From Mars Rover Looks Back Over Journey So Far\\n             </h3>\\n            </div>\\n           </div>\\n          </a>\\n          <div class=\"list_text\">\\n           <div class=\"list_date\">\\n            January 30, 2018\\n           </div>\\n           <div class=\"content_title\">\\n            <a href=\"/news/8302/vista-from-mars-rover-looks-back-over-journey-so-far/\" target=\"_self\">\\n             Vista From Mars Rover Looks Back Over Journey So Far\\n            </a>\\n           </div>\\n           <div class=\"article_teaser_body\">\\n            A panoramic image that NASA\\'s Curiosity Mars rover took from a mountainside ridge provides a sweeping vista of key sites visited since the rover\\'s 2012 landing, and the towering surroundings.\\n           </div>\\n          </div>\\n         </div>\\n        </li>\\n        <li class=\"slide\">\\n         <div class=\"image_and_description_container\">\\n          <a href=\"/news/8301/nasas-next-mars-lander-spreads-its-solar-wings/\" target=\"_self\">\\n           <div class=\"rollover_description\">\\n            <div class=\"rollover_description_inner\">\\n             NASA\\'s next mission to Mars passed a key test Tuesday, extending the solar arrays that will power the InSight spacecraft once it lands on the Red Planet this November.\\n            </div>\\n            <div class=\"overlay_arrow\">\\n             <img alt=\"More\" src=\"/assets/overlay-arrow.png\"/>\\n            </div>\\n           </div>\\n           <div class=\"list_image\">\\n            <img alt=\"While in the landed configuration for the last time before arriving on Mars, NASA\\'s InSight lander was commanded to deploy its solar arrays to test and verify the exact process that it will use on the surface of the Red Planet. \" src=\"/system/news_items/list_view_images/8301_insight_solar_array_panel_main_320x240.jpg\"/>\\n           </div>\\n           <div class=\"bottom_gradient\">\\n            <div>\\n             <h3>\\n              NASA\\'s Next Mars Lander Spreads its Solar Wings\\n             </h3>\\n            </div>\\n           </div>\\n          </a>\\n          <div class=\"list_text\">\\n           <div class=\"list_date\">\\n            January 23, 2018\\n           </div>\\n           <div class=\"content_title\">\\n            <a href=\"/news/8301/nasas-next-mars-lander-spreads-its-solar-wings/\" target=\"_self\">\\n             NASA\\'s Next Mars Lander Spreads its Solar Wings\\n            </a>\\n           </div>\\n           <div class=\"article_teaser_body\">\\n            NASA\\'s next mission to Mars passed a key test Tuesday, extending the solar arrays that will power the InSight spacecraft once it lands on the Red Planet this November.\\n           </div>\\n          </div>\\n         </div>\\n        </li>\\n        <li class=\"slide\">\\n         <div class=\"image_and_description_container\">\\n          <a href=\"/news/8299/dust-storms-linked-to-gas-escape-from-mars-atmosphere/\" target=\"_self\">\\n           <div class=\"rollover_description\">\\n            <div class=\"rollover_description_inner\">\\n             If Mars has a global dust storm in 2018, observations could aid understanding of its effects.\\n            </div>\\n            <div class=\"overlay_arrow\">\\n             <img alt=\"More\" src=\"/assets/overlay-arrow.png\"/>\\n            </div>\\n           </div>\\n           <div class=\"list_image\">\\n            <img alt=\"two global views of Mars, one clear, one hazy\" src=\"/system/news_items/list_view_images/8299_PIA03170_320.jpg\"/>\\n           </div>\\n           <div class=\"bottom_gradient\">\\n            <div>\\n             <h3>\\n              Dust Storms Linked to Gas Escape from Mars Atmosphere\\n             </h3>\\n            </div>\\n           </div>\\n          </a>\\n          <div class=\"list_text\">\\n           <div class=\"list_date\">\\n            January 23, 2018\\n           </div>\\n           <div class=\"content_title\">\\n            <a href=\"/news/8299/dust-storms-linked-to-gas-escape-from-mars-atmosphere/\" target=\"_self\">\\n             Dust Storms Linked to Gas Escape from Mars Atmosphere\\n            </a>\\n           </div>\\n           <div class=\"article_teaser_body\">\\n            If Mars has a global dust storm in 2018, observations could aid understanding of its effects.\\n           </div>\\n          </div>\\n         </div>\\n        </li>\\n        <li class=\"slide\">\\n         <div class=\"image_and_description_container\">\\n          <a href=\"/news/8298/steep-slopes-on-mars-reveal-structure-of-buried-ice/\" target=\"_self\">\\n           <div class=\"rollover_description\">\\n            <div class=\"rollover_description_inner\">\\n             Researchers using NASA\\'s Mars Reconnaissance Orbiter have found eight sites where thick deposits of ice beneath Mars\\' surface are exposed.\\n            </div>\\n            <div class=\"overlay_arrow\">\\n             <img alt=\"More\" src=\"/assets/overlay-arrow.png\"/>\\n            </div>\\n           </div>\\n           <div class=\"list_image\">\\n            <img alt=\"exposed ice layers\" src=\"/system/news_items/list_view_images/8298_PIA22077_320.jpg\"/>\\n           </div>\\n           <div class=\"bottom_gradient\">\\n            <div>\\n             <h3>\\n              Steep Slopes on Mars Reveal Structure of Buried Ice\\n             </h3>\\n            </div>\\n           </div>\\n          </a>\\n          <div class=\"list_text\">\\n           <div class=\"list_date\">\\n            January 11, 2018\\n           </div>\\n           <div class=\"content_title\">\\n            <a href=\"/news/8298/steep-slopes-on-mars-reveal-structure-of-buried-ice/\" target=\"_self\">\\n             Steep Slopes on Mars Reveal Structure of Buried Ice\\n            </a>\\n           </div>\\n           <div class=\"article_teaser_body\">\\n            Researchers using NASA\\'s Mars Reconnaissance Orbiter have found eight sites where thick deposits of ice beneath Mars\\' surface are exposed.\\n           </div>\\n          </div>\\n         </div>\\n        </li>\\n        <li class=\"slide\">\\n         <div class=\"image_and_description_container\">\\n          <a href=\"/news/8292/mars-mission-sheds-light-on-habitability-of-distant-planets/\" target=\"_self\">\\n           <div class=\"rollover_description\">\\n            <div class=\"rollover_description_inner\">\\n             How long might a rocky, Mars-like planet be habitable if it were orbiting a red dwarf star?\\n            </div>\\n            <div class=\"overlay_arrow\">\\n             <img alt=\"More\" src=\"/assets/overlay-arrow.png\"/>\\n            </div>\\n           </div>\\n           <div class=\"list_image\">\\n            <img alt=\"This depicts that in order to receive the same amount of starlight as Mars receives from our Sun, a planet orbiting an M-type red dwarf would have to be positioned much closer to its star than Mercury is to the Sun.\" src=\"/system/news_items/list_view_images/8292_MarsSolarStormIonLoss.png\"/>\\n           </div>\\n           <div class=\"bottom_gradient\">\\n            <div>\\n             <h3>\\n              Mars Mission Sheds Light on Habitability of Distant Planets\\n             </h3>\\n            </div>\\n           </div>\\n          </a>\\n          <div class=\"list_text\">\\n           <div class=\"list_date\">\\n            December 13, 2017\\n           </div>\\n           <div class=\"content_title\">\\n            <a href=\"/news/8292/mars-mission-sheds-light-on-habitability-of-distant-planets/\" target=\"_self\">\\n             Mars Mission Sheds Light on Habitability of Distant Planets\\n            </a>\\n           </div>\\n           <div class=\"article_teaser_body\">\\n            How long might a rocky, Mars-like planet be habitable if it were orbiting a red dwarf star?\\n           </div>\\n          </div>\\n         </div>\\n        </li>\\n        <li class=\"slide\">\\n         <div class=\"image_and_description_container\">\\n          <a href=\"/news/8291/nasa-mars-rover-teams-tilted-winter-strategy-works/\" target=\"_self\">\\n           <div class=\"rollover_description\">\\n            <div class=\"rollover_description_inner\">\\n             NASA\\'s senior Mars rover, Opportunity, has just passed the shortest-daylight weeks of the long Martian year with its solar panels in encouragingly clean condition for entering a potential dust-storm season in 2018.\\n            </div>\\n            <div class=\"overlay_arrow\">\\n             <img alt=\"More\" src=\"/assets/overlay-arrow.png\"/>\\n            </div>\\n           </div>\\n           <div class=\"list_image\">\\n            <img alt=\"&quot;Perseverance Valley,&quot; on the rim of Endurance Crater, includes wheel tracks from the Opportunity Mars rover\\'s descent of the valley to investigate its origin. The rover\\'s Pancam took component images in September and October of 2017 for this approximately true-color scene.\\r\\nCredits: NASA/JPL-Caltech/Cornell Univ./Arizona State Univ.\\r\\n\" src=\"/system/news_items/list_view_images/8291_PIA22073_Sols4840B-4871B_East_Mosaic_320x240.jpg\"/>\\n           </div>\\n           <div class=\"bottom_gradient\">\\n            <div>\\n             <h3>\\n              NASA Mars Rover Team\\'s Tilted Winter Strategy Works\\n             </h3>\\n            </div>\\n           </div>\\n          </a>\\n          <div class=\"list_text\">\\n           <div class=\"list_date\">\\n            December  6, 2017\\n           </div>\\n           <div class=\"content_title\">\\n            <a href=\"/news/8291/nasa-mars-rover-teams-tilted-winter-strategy-works/\" target=\"_self\">\\n             NASA Mars Rover Team\\'s Tilted Winter Strategy Works\\n            </a>\\n           </div>\\n           <div class=\"article_teaser_body\">\\n            NASA\\'s senior Mars rover, Opportunity, has just passed the shortest-daylight weeks of the long Martian year with its solar panels in encouragingly clean condition for entering a potential dust-storm season in 2018.\\n           </div>\\n          </div>\\n         </div>\\n        </li>\\n        <li class=\"slide\">\\n         <div class=\"image_and_description_container\">\\n          <a href=\"/news/8290/nasa-builds-its-next-mars-rover-mission/\" target=\"_self\">\\n           <div class=\"rollover_description\">\\n            <div class=\"rollover_description_inner\">\\n             In just a few years, NASA\\'s next Mars rover mission will be flying to the Red Planet.\\n            </div>\\n            <div class=\"overlay_arrow\">\\n             <img alt=\"More\" src=\"/assets/overlay-arrow.png\"/>\\n            </div>\\n           </div>\\n           <div class=\"list_image\">\\n            <img alt=\"This artist\\'s rendition depicts NASA\\'s Mars 2020 rover studying a Mars rock outrcrop. \" src=\"/system/news_items/list_view_images/8290_21377_PIA22105-min320.jpeg\"/>\\n           </div>\\n           <div class=\"bottom_gradient\">\\n            <div>\\n             <h3>\\n              NASA Builds Its Next Mars Rover Mission\\n             </h3>\\n            </div>\\n           </div>\\n          </a>\\n          <div class=\"list_text\">\\n           <div class=\"list_date\">\\n            November 28, 2017\\n           </div>\\n           <div class=\"content_title\">\\n            <a href=\"/news/8290/nasa-builds-its-next-mars-rover-mission/\" target=\"_self\">\\n             NASA Builds Its Next Mars Rover Mission\\n            </a>\\n           </div>\\n           <div class=\"article_teaser_body\">\\n            In just a few years, NASA\\'s next Mars rover mission will be flying to the Red Planet.\\n           </div>\\n          </div>\\n         </div>\\n        </li>\\n        <li class=\"slide\">\\n         <div class=\"image_and_description_container\">\\n          <a href=\"/news/8289/recurring-martian-streaks-flowing-sand-not-water/\" target=\"_self\">\\n           <div class=\"rollover_description\">\\n            <div class=\"rollover_description_inner\">\\n             Seasonal dark streaks on Mars that previously were described as possible signs of flowing water have steep slopes that are better matches to dry flow processes...\\n            </div>\\n            <div class=\"overlay_arrow\">\\n             <img alt=\"More\" src=\"/assets/overlay-arrow.png\"/>\\n            </div>\\n           </div>\\n           <div class=\"list_image\">\\n            <img alt=\"Image of Martian surface in black and white.\" src=\"/system/news_items/list_view_images/8289_Mars320.jpg\"/>\\n           </div>\\n           <div class=\"bottom_gradient\">\\n            <div>\\n             <h3>\\n              Recurring Martian Streaks: Flowing Sand, Not Water?\\n             </h3>\\n            </div>\\n           </div>\\n          </a>\\n          <div class=\"list_text\">\\n           <div class=\"list_date\">\\n            November 20, 2017\\n           </div>\\n           <div class=\"content_title\">\\n            <a href=\"/news/8289/recurring-martian-streaks-flowing-sand-not-water/\" target=\"_self\">\\n             Recurring Martian Streaks: Flowing Sand, Not Water?\\n            </a>\\n           </div>\\n           <div class=\"article_teaser_body\">\\n            Seasonal dark streaks on Mars that previously were described as possible signs of flowing water have steep slopes that are better matches to dry flow processes...\\n           </div>\\n          </div>\\n         </div>\\n        </li>\\n        <li class=\"slide\">\\n         <div class=\"image_and_description_container\">\\n          <a href=\"/news/8288/nasas-mars-2020-mission-performs-first-supersonic-parachute-test/\" target=\"_self\">\\n           <div class=\"rollover_description\">\\n            <div class=\"rollover_description_inner\">\\n             A 58-foot-tall Black Brant IX sounding rocket launches from NASA\\'s Wallops Flight Facility on Oct. 4. This was the first test of the Mars 2020 mission\\'s parachute-testing series, the Advanced Supersonic Parachute Inflation Research Experiment, or ASPIRE.\\n            </div>\\n            <div class=\"overlay_arrow\">\\n             <img alt=\"More\" src=\"/assets/overlay-arrow.png\"/>\\n            </div>\\n           </div>\\n           <div class=\"list_image\">\\n            <img alt=\"A 58-foot-tall Black Brant IX sounding rocket launches from NASA’s Wallops Flight Facility on Oct. 4. This was the first test of the Mars 2020 mission\\'s parachute-testing series, the Advanced Supersonic Parachute Inflation Research Experiment, or ASPIRE.\" src=\"/system/news_items/list_view_images/8288_aspire-mars2020-parachute-test.png\"/>\\n           </div>\\n           <div class=\"bottom_gradient\">\\n            <div>\\n             <h3>\\n              NASA\\'s Mars 2020 Mission Performs First Supersonic Parachute Test\\n             </h3>\\n            </div>\\n           </div>\\n          </a>\\n          <div class=\"list_text\">\\n           <div class=\"list_date\">\\n            November 14, 2017\\n           </div>\\n           <div class=\"content_title\">\\n            <a href=\"/news/8288/nasas-mars-2020-mission-performs-first-supersonic-parachute-test/\" target=\"_self\">\\n             NASA\\'s Mars 2020 Mission Performs First Supersonic Parachute Test\\n            </a>\\n           </div>\\n           <div class=\"article_teaser_body\">\\n            A 58-foot-tall Black Brant IX sounding rocket launches from NASA\\'s Wallops Flight Facility on Oct. 4. This was the first test of the Mars 2020 mission\\'s parachute-testing series, the Advanced Supersonic Parachute Inflation Research Experiment, or ASPIRE.\\n           </div>\\n          </div>\\n         </div>\\n        </li>\\n        <li class=\"slide\">\\n         <div class=\"image_and_description_container\">\\n          <a href=\"/news/8287/more-than-24-million-names-are-going-to-mars/\" target=\"_self\">\\n           <div class=\"rollover_description\">\\n            <div class=\"rollover_description_inner\">\\n             Last month, NASA invited members of the public to send their names to Mars. And the public responded loud and clear.\\n            </div>\\n            <div class=\"overlay_arrow\">\\n             <img alt=\"More\" src=\"/assets/overlay-arrow.png\"/>\\n            </div>\\n           </div>\\n           <div class=\"list_image\">\\n            <img alt=\"Engineers at NASA\\'s Jet Propulsion Laboratory, Pasadena, California, put the names onto this tiny 0.8 cm-square (8 mm-square) silicon wafer microchip using an electron beam to write extremely tiny letters with lines smaller than one one-thousandth the width of a human hair. \" src=\"/system/news_items/list_view_images/8287_syn2_main.jpg\"/>\\n           </div>\\n           <div class=\"bottom_gradient\">\\n            <div>\\n             <h3>\\n              More Than 2.4 Million Names Are Going to Mars\\n             </h3>\\n            </div>\\n           </div>\\n          </a>\\n          <div class=\"list_text\">\\n           <div class=\"list_date\">\\n            November  3, 2017\\n           </div>\\n           <div class=\"content_title\">\\n            <a href=\"/news/8287/more-than-24-million-names-are-going-to-mars/\" target=\"_self\">\\n             More Than 2.4 Million Names Are Going to Mars\\n            </a>\\n           </div>\\n           <div class=\"article_teaser_body\">\\n            Last month, NASA invited members of the public to send their names to Mars. And the public responded loud and clear.\\n           </div>\\n          </div>\\n         </div>\\n        </li>\\n        <li class=\"slide\">\\n         <div class=\"image_and_description_container\">\\n          <a href=\"/news/8286/martian-ridge-brings-out-rovers-color-talents/\" target=\"_self\">\\n           <div class=\"rollover_description\">\\n            <div class=\"rollover_description_inner\">\\n             On a part of \"Vera Rubin Ridge\" where rover-team researchers sought to determine whether dust coatings are hiding rocks\\' hematite content, the Mast Camera (Mastcam) on NASA\\'s Curiosity Mars rover took this image of a rock surface that had been brushed with the rover\\'s Dust Removal Tool.\\n            </div>\\n            <div class=\"overlay_arrow\">\\n             <img alt=\"More\" src=\"/assets/overlay-arrow.png\"/>\\n            </div>\\n           </div>\\n           <div class=\"list_image\">\\n            <img alt=\"This pair of images from the Mast Camera (Mastcam) on NASA\\'s Curiosity rover illustrates how special filters are used to scout terrain ahead for variations in the local bedrock. (Credits: NASA/JPL-Caltech/MSSS/ASU)\" src=\"/system/news_items/list_view_images/8286_pia22065-226_320x240.jpg\"/>\\n           </div>\\n           <div class=\"bottom_gradient\">\\n            <div>\\n             <h3>\\n              Martian Ridge Brings Out Rover\\'s Color Talents\\n             </h3>\\n            </div>\\n           </div>\\n          </a>\\n          <div class=\"list_text\">\\n           <div class=\"list_date\">\\n            November  1, 2017\\n           </div>\\n           <div class=\"content_title\">\\n            <a href=\"/news/8286/martian-ridge-brings-out-rovers-color-talents/\" target=\"_self\">\\n             Martian Ridge Brings Out Rover\\'s Color Talents\\n            </a>\\n           </div>\\n           <div class=\"article_teaser_body\">\\n            On a part of \"Vera Rubin Ridge\" where rover-team researchers sought to determine whether dust coatings are hiding rocks\\' hematite content, the Mast Camera (Mastcam) on NASA\\'s Curiosity Mars rover took this image of a rock surface that had been brushed with the rover\\'s Dust Removal Tool.\\n           </div>\\n          </div>\\n         </div>\\n        </li>\\n        <li class=\"slide\">\\n         <div class=\"image_and_description_container\">\\n          <a href=\"/news/8285/next-mars-rover-will-have-23-eyes/\" target=\"_self\">\\n           <div class=\"rollover_description\">\\n            <div class=\"rollover_description_inner\">\\n             When NASA\\'s Mars Pathfinder touched down in 1997, it had five cameras: two on a mast that popped up from the lander, and three on NASA\\'s first rover, Sojourner.\\n            </div>\\n            <div class=\"overlay_arrow\">\\n             <img alt=\"More\" src=\"/assets/overlay-arrow.png\"/>\\n            </div>\\n           </div>\\n           <div class=\"list_image\">\\n            <img alt=\"A selection of the 23 cameras on NASA\\'s 2020 Mars rover. Many are improved versions of the cameras on the Curiosity rover, with a few new additions as well. UPDATED AT 4:15 p.m. PDT to correct the number of EDL cameras shown in the image.\" src=\"/system/news_items/list_view_images/8285_cameras_2.jpg\"/>\\n           </div>\\n           <div class=\"bottom_gradient\">\\n            <div>\\n             <h3>\\n              Next Mars Rover Will Have 23 \\'Eyes\\'\\n             </h3>\\n            </div>\\n           </div>\\n          </a>\\n          <div class=\"list_text\">\\n           <div class=\"list_date\">\\n            October 31, 2017\\n           </div>\\n           <div class=\"content_title\">\\n            <a href=\"/news/8285/next-mars-rover-will-have-23-eyes/\" target=\"_self\">\\n             Next Mars Rover Will Have 23 \\'Eyes\\'\\n            </a>\\n           </div>\\n           <div class=\"article_teaser_body\">\\n            When NASA\\'s Mars Pathfinder touched down in 1997, it had five cameras: two on a mast that popped up from the lander, and three on NASA\\'s first rover, Sojourner.\\n           </div>\\n          </div>\\n         </div>\\n        </li>\\n        <li class=\"slide\">\\n         <div class=\"image_and_description_container\">\\n          <a href=\"/news/8284/mars-rover-mission-progresses-toward-resumed-drilling/\" target=\"_self\">\\n           <div class=\"rollover_description\">\\n            <div class=\"rollover_description_inner\">\\n             NASA\\'s Mars rover Curiosity team is working to restore Curiosity\\'s sample-drilling capability using new techniques. The latest development is a preparatory test on Mars.\\n            </div>\\n            <div class=\"overlay_arrow\">\\n             <img alt=\"More\" src=\"/assets/overlay-arrow.png\"/>\\n            </div>\\n           </div>\\n           <div class=\"list_image\">\\n            <img alt=\"NASA\\'s Curiosity Mars rover conducted a test on Oct. 17, 2017, as part of the rover team\\'s development of a new way to use the rover\\'s drill. (Credit: NASA/JPL-Caltech)\" src=\"/system/news_items/list_view_images/8284_PIA22063-MAIN_Fhaz-Sol-1848-brtn-shdws_320x240.jpg\"/>\\n           </div>\\n           <div class=\"bottom_gradient\">\\n            <div>\\n             <h3>\\n              Mars Rover Mission Progresses Toward Resumed Drilling\\n             </h3>\\n            </div>\\n           </div>\\n          </a>\\n          <div class=\"list_text\">\\n           <div class=\"list_date\">\\n            October 23, 2017\\n           </div>\\n           <div class=\"content_title\">\\n            <a href=\"/news/8284/mars-rover-mission-progresses-toward-resumed-drilling/\" target=\"_self\">\\n             Mars Rover Mission Progresses Toward Resumed Drilling\\n            </a>\\n           </div>\\n           <div class=\"article_teaser_body\">\\n            NASA\\'s Mars rover Curiosity team is working to restore Curiosity\\'s sample-drilling capability using new techniques. The latest development is a preparatory test on Mars.\\n           </div>\\n          </div>\\n         </div>\\n        </li>\\n       </ul>\\n       <footer class=\"list_footer more_button\">\\n        <div class=\"loading\">\\n        </div>\\n        <a class=\"button\" href=\"#\" type=\"button\">\\n         More\\n        </a>\\n       </footer>\\n      </div>\\n     </section>\\n    </div>\\n    <section class=\"module suggested_features\">\\n     <div class=\"grid_layout\">\\n      <header>\\n       <h2 class=\"module_title\">\\n        You Might Also Like\\n       </h2>\\n      </header>\\n      <section>\\n       <script>\\n        $(document).ready(function(){\\n    $(\".features\").slick({\\n      dots: false,\\n      infinite: true,\\n      speed: 300,\\n      slide: \\'.features .slide\\',\\n      slidesToShow: 3,\\n      slidesToScroll: 3,\\n      lazyLoad: \\'ondemand\\',\\n      centerMode: false,\\n      arrows: true,\\n      appendArrows: \\'.features .slick-nav\\',\\n      appendDots: \".features .slick-nav\",\\n      responsive: [{\"breakpoint\":953,\"settings\":{\"slidesToShow\":2,\"slidesToScroll\":2,\"centerMode\":false}},{\"breakpoint\":480,\"settings\":{\"slidesToShow\":1,\"slidesToScroll\":1,\"centerMode\":true,\"arrows\":false,\"centerPadding\":\"25px\"}}]\\n    });\\n  });\\n       </script>\\n       <div class=\"features slick-initialized slick-slider\">\\n        <div class=\"slick-list draggable\" tabindex=\"0\">\\n         <div class=\"slick-track\" style=\"opacity: 1; width: 3700px; transform: translate3d(-740px, 0px, 0px);\">\\n          <div class=\"slide slick-slide slick-cloned\" index=\"-2\" style=\"width: 352px;\">\\n           <div class=\"image_and_description_container\">\\n            <a href=\"/news/8317/witness-first-mars-launch-from-west-coast/\">\\n             <div class=\"rollover_description\">\\n              <div class=\"rollover_description_inner\">\\n               NASA invites digital creators to apply for social media credentials to cover the launch of the InSight mission to Mars, May 3-5, at California\\'s Vandenberg Air Force Base.\\n              </div>\\n              <div class=\"overlay_arrow\">\\n               <img alt=\"More\" src=\"/assets/overlay-arrow.png\"/>\\n              </div>\\n             </div>\\n             <img alt=\"Witness First Mars Launch from West Coast\" class=\"img-lazy\" data-lazy=\"/system/news_items/list_view_images/8317_list_image.jpg\" src=\"/assets/loading_320x240.png\"/>\\n            </a>\\n           </div>\\n           <div class=\"content_title\">\\n            <a href=\"/news/8317/witness-first-mars-launch-from-west-coast/\">\\n             Witness First Mars Launch from West Coast\\n            </a>\\n           </div>\\n          </div>\\n          <div class=\"slide slick-slide slick-cloned\" index=\"-1\" style=\"width: 352px;\">\\n           <div class=\"image_and_description_container\">\\n            <a href=\"/news/8315/nasa-insight-mission-to-mars-arrives-at-launch-site/\">\\n             <div class=\"rollover_description\">\\n              <div class=\"rollover_description_inner\">\\n               NASA\\'s InSight spacecraft has arrived at Vandenberg Air Force Base in central California to begin final preparations for a launch this May.\\n              </div>\\n              <div class=\"overlay_arrow\">\\n               <img alt=\"More\" src=\"/assets/overlay-arrow.png\"/>\\n              </div>\\n             </div>\\n             <img alt=\"NASA InSight Mission to Mars Arrives at Launch Site\" class=\"img-lazy\" data-lazy=\"/system/news_items/list_view_images/8315_list_image.jpg\" src=\"/assets/loading_320x240.png\"/>\\n            </a>\\n           </div>\\n           <div class=\"content_title\">\\n            <a href=\"/news/8315/nasa-insight-mission-to-mars-arrives-at-launch-site/\">\\n             NASA InSight Mission to Mars Arrives at Launch Site\\n            </a>\\n           </div>\\n          </div>\\n          <div class=\"slide slick-slide slick-active\" index=\"0\" style=\"width: 352px;\">\\n           <div class=\"image_and_description_container\">\\n            <a href=\"/news/8326/nasa-invests-in-visionary-technology/\">\\n             <div class=\"rollover_description\">\\n              <div class=\"rollover_description_inner\">\\n               NASA is investing in technology concepts, including several from JPL, that may one day be used for future space exploration missions.\\n              </div>\\n              <div class=\"overlay_arrow\">\\n               <img alt=\"More\" src=\"/assets/overlay-arrow.png\"/>\\n              </div>\\n             </div>\\n             <img alt=\"NASA Invests in Visionary Technology \" class=\"img-lazy\" src=\"/system/news_items/list_view_images/8326_niac320.jpg?1525377105890\" style=\"opacity: 1;\"/>\\n            </a>\\n           </div>\\n           <div class=\"content_title\">\\n            <a href=\"/news/8326/nasa-invests-in-visionary-technology/\">\\n             NASA Invests in Visionary Technology\\n            </a>\\n           </div>\\n          </div>\\n          <div class=\"slide slick-slide slick-active\" index=\"1\" style=\"width: 352px;\">\\n           <div class=\"image_and_description_container\">\\n            <a href=\"/news/8325/nasa-is-ready-to-study-the-heart-of-mars/\">\\n             <div class=\"rollover_description\">\\n              <div class=\"rollover_description_inner\">\\n               NASA is about to go on a journey to study the center of Mars.\\n              </div>\\n              <div class=\"overlay_arrow\">\\n               <img alt=\"More\" src=\"/assets/overlay-arrow.png\"/>\\n              </div>\\n             </div>\\n             <img alt=\"NASA is Ready to Study the Heart of Mars\" class=\"img-lazy\" src=\"/system/news_items/list_view_images/8325_insight20180329b_320.jpg?1525377105891\" style=\"opacity: 1;\"/>\\n            </a>\\n           </div>\\n           <div class=\"content_title\">\\n            <a href=\"/news/8325/nasa-is-ready-to-study-the-heart-of-mars/\">\\n             NASA is Ready to Study the Heart of Mars\\n            </a>\\n           </div>\\n          </div>\\n          <div class=\"slide slick-slide\" index=\"2\" style=\"width: 352px;\">\\n           <div class=\"image_and_description_container\">\\n            <a href=\"/news/8322/nasa-briefing-on-first-mission-to-study-mars-interior/\">\\n             <div class=\"rollover_description\">\\n              <div class=\"rollover_description_inner\">\\n               NASA’s next mission to Mars will be the topic of a media briefing Thursday, March 29, at JPL. The briefing will air live on NASA Television and the agency’s website.\\n              </div>\\n              <div class=\"overlay_arrow\">\\n               <img alt=\"More\" src=\"/assets/overlay-arrow.png\"/>\\n              </div>\\n             </div>\\n             <img alt=\"NASA Briefing on First Mission to Study Mars Interior\" class=\"img-lazy\" src=\"/system/news_items/list_view_images/8322_PIA22228_320.jpg?1525377105891\" style=\"opacity: 1;\"/>\\n            </a>\\n           </div>\\n           <div class=\"content_title\">\\n            <a href=\"/news/8322/nasa-briefing-on-first-mission-to-study-mars-interior/\">\\n             NASA Briefing on First Mission to Study Mars Interior\\n            </a>\\n           </div>\\n          </div>\\n          <div class=\"slide slick-slide\" index=\"3\" style=\"width: 352px;\">\\n           <div class=\"image_and_description_container\">\\n            <a href=\"/news/8321/new-ar-mobile-app-features-3-d-nasa-spacecraft/\">\\n             <div class=\"rollover_description\">\\n              <div class=\"rollover_description_inner\">\\n               NASA spacecraft travel to far-off destinations in space, but a new mobile app produced by NASA\\'s Jet Propulsion Laboratory, Pasadena, California, brings spacecraft to users.\\n              </div>\\n              <div class=\"overlay_arrow\">\\n               <img alt=\"More\" src=\"/assets/overlay-arrow.png\"/>\\n              </div>\\n             </div>\\n             <img alt=\"New \\'AR\\' Mobile App Features 3-D NASA Spacecraft\" class=\"img-lazy\" data-lazy=\"/system/news_items/list_view_images/8321_list_image.jpg\" src=\"/assets/loading_320x240.png\"/>\\n            </a>\\n           </div>\\n           <div class=\"content_title\">\\n            <a href=\"/news/8321/new-ar-mobile-app-features-3-d-nasa-spacecraft/\">\\n             New \\'AR\\' Mobile App Features 3-D NASA Spacecraft\\n            </a>\\n           </div>\\n          </div>\\n          <div class=\"slide slick-slide\" index=\"4\" style=\"width: 352px;\">\\n           <div class=\"image_and_description_container\">\\n            <a href=\"/news/8317/witness-first-mars-launch-from-west-coast/\">\\n             <div class=\"rollover_description\">\\n              <div class=\"rollover_description_inner\">\\n               NASA invites digital creators to apply for social media credentials to cover the launch of the InSight mission to Mars, May 3-5, at California\\'s Vandenberg Air Force Base.\\n              </div>\\n              <div class=\"overlay_arrow\">\\n               <img alt=\"More\" src=\"/assets/overlay-arrow.png\"/>\\n              </div>\\n             </div>\\n             <img alt=\"Witness First Mars Launch from West Coast\" class=\"img-lazy\" data-lazy=\"/system/news_items/list_view_images/8317_list_image.jpg\" src=\"/assets/loading_320x240.png\"/>\\n            </a>\\n           </div>\\n           <div class=\"content_title\">\\n            <a href=\"/news/8317/witness-first-mars-launch-from-west-coast/\">\\n             Witness First Mars Launch from West Coast\\n            </a>\\n           </div>\\n          </div>\\n          <div class=\"slide slick-slide\" index=\"5\" style=\"width: 352px;\">\\n           <div class=\"image_and_description_container\">\\n            <a href=\"/news/8315/nasa-insight-mission-to-mars-arrives-at-launch-site/\">\\n             <div class=\"rollover_description\">\\n              <div class=\"rollover_description_inner\">\\n               NASA\\'s InSight spacecraft has arrived at Vandenberg Air Force Base in central California to begin final preparations for a launch this May.\\n              </div>\\n              <div class=\"overlay_arrow\">\\n               <img alt=\"More\" src=\"/assets/overlay-arrow.png\"/>\\n              </div>\\n             </div>\\n             <img alt=\"NASA InSight Mission to Mars Arrives at Launch Site\" class=\"img-lazy\" data-lazy=\"/system/news_items/list_view_images/8315_list_image.jpg\" src=\"/assets/loading_320x240.png\"/>\\n            </a>\\n           </div>\\n           <div class=\"content_title\">\\n            <a href=\"/news/8315/nasa-insight-mission-to-mars-arrives-at-launch-site/\">\\n             NASA InSight Mission to Mars Arrives at Launch Site\\n            </a>\\n           </div>\\n          </div>\\n          <div class=\"slide slick-slide slick-cloned\" index=\"6\" style=\"width: 352px;\">\\n           <div class=\"image_and_description_container\">\\n            <a href=\"/news/8326/nasa-invests-in-visionary-technology/\">\\n             <div class=\"rollover_description\">\\n              <div class=\"rollover_description_inner\">\\n               NASA is investing in technology concepts, including several from JPL, that may one day be used for future space exploration missions.\\n              </div>\\n              <div class=\"overlay_arrow\">\\n               <img alt=\"More\" src=\"/assets/overlay-arrow.png\"/>\\n              </div>\\n             </div>\\n             <img alt=\"NASA Invests in Visionary Technology \" class=\"img-lazy\" src=\"/system/news_items/list_view_images/8326_niac320.jpg?1525377105890\" style=\"opacity: 0;\"/>\\n            </a>\\n           </div>\\n           <div class=\"content_title\">\\n            <a href=\"/news/8326/nasa-invests-in-visionary-technology/\">\\n             NASA Invests in Visionary Technology\\n            </a>\\n           </div>\\n          </div>\\n          <div class=\"slide slick-slide slick-cloned\" index=\"7\" style=\"width: 352px;\">\\n           <div class=\"image_and_description_container\">\\n            <a href=\"/news/8325/nasa-is-ready-to-study-the-heart-of-mars/\">\\n             <div class=\"rollover_description\">\\n              <div class=\"rollover_description_inner\">\\n               NASA is about to go on a journey to study the center of Mars.\\n              </div>\\n              <div class=\"overlay_arrow\">\\n               <img alt=\"More\" src=\"/assets/overlay-arrow.png\"/>\\n              </div>\\n             </div>\\n             <img alt=\"NASA is Ready to Study the Heart of Mars\" class=\"img-lazy\" src=\"/system/news_items/list_view_images/8325_insight20180329b_320.jpg?1525377105891\" style=\"opacity: 0;\"/>\\n            </a>\\n           </div>\\n           <div class=\"content_title\">\\n            <a href=\"/news/8325/nasa-is-ready-to-study-the-heart-of-mars/\">\\n             NASA is Ready to Study the Heart of Mars\\n            </a>\\n           </div>\\n          </div>\\n         </div>\\n        </div>\\n        <div class=\"grid_layout\">\\n         <div class=\"slick-nav_container\">\\n          <div class=\"slick-nav\">\\n           <button class=\"slick-prev\" data-role=\"none\" style=\"display: block;\" type=\"button\">\\n            Previous\\n           </button>\\n           <button class=\"slick-next\" data-role=\"none\" style=\"display: block;\" type=\"button\">\\n            Next\\n           </button>\\n          </div>\\n         </div>\\n        </div>\\n       </div>\\n      </section>\\n     </div>\\n    </section>\\n   </div>\\n   <footer id=\"site_footer\">\\n    <div class=\"grid_layout\">\\n     <section class=\"upper_footer\">\\n      <div class=\"share\">\\n       <h2>\\n        Follow the Journey\\n       </h2>\\n       <div class=\"social_icons\">\\n        <!-- AddThis Button BEGIN -->\\n        <div class=\"addthis_toolbox addthis_default_style addthis_32x32_style\">\\n         <a addthis:userid=\"NASABeAMartian\" class=\"addthis_button_twitter_follow icon at300b\" href=\"//twitter.com/NASABeAMartian\" target=\"_blank\" title=\"Follow on Twitter\">\\n          <img alt=\"twitter\" src=\"/assets/twitter_icon@2x.png\"/>\\n          <span class=\"addthis_follow_label\">\\n           Twitter\\n          </span>\\n         </a>\\n         <a addthis:userid=\"NASABEAM\" class=\"addthis_button_facebook_follow icon at300b\" href=\"http://www.facebook.com/NASABEAM\" target=\"_blank\" title=\"Follow on Facebook\">\\n          <img alt=\"facebook\" src=\"/assets/facebook_icon@2x.png\"/>\\n          <span class=\"addthis_follow_label\">\\n           Facebook\\n          </span>\\n         </a>\\n         <a addthis:userid=\"nasa\" class=\"addthis_button_instagram_follow icon at300b\" href=\"http://instagram.com/nasa\" target=\"_blank\" title=\"Follow on Instagram\">\\n          <img alt=\"instagram\" src=\"/assets/instagram_icon@2x.png\"/>\\n          <span class=\"addthis_follow_label\">\\n           Instagram\\n          </span>\\n         </a>\\n         <a addthis:url=\"https://mars.nasa.gov/rss/api/?feed=news&amp;category=all&amp;feedtype=rss\" class=\"addthis_button_rss_follow icon at300b\" href=\"https://mars.nasa.gov/rss/api/?feed=news&amp;category=all&amp;feedtype=rss\" target=\"_blank\" title=\"Follow on RSS\">\\n          <img alt=\"rss\" src=\"/assets/rss_icon@2x.png\"/>\\n          <span class=\"addthis_follow_label\">\\n           RSS\\n          </span>\\n         </a>\\n         <div class=\"atclear\">\\n         </div>\\n        </div>\\n        <script>\\n         addthis_loader.init(\"//s7.addthis.com/js/300/addthis_widget.js#pubid=ra-5a690e4c1320e328\", {follow: true})\\n        </script>\\n        <!-- AddThis Button END -->\\n       </div>\\n      </div>\\n      <div class=\"gradient_line\">\\n      </div>\\n     </section>\\n     <section class=\"sitemap\">\\n      <div class=\"sitemap_directory\" id=\"sitemap_directory\" style=\"position: relative; height: 268.062px;\">\\n       <div class=\"sitemap_block\" style=\"position: absolute; left: 0px; top: 0px;\">\\n        <div class=\"footer_sitemap_item\">\\n         <h3 class=\"sitemap_title\">\\n          <a href=\"/#red_planet\">\\n           The Red Planet\\n          </a>\\n         </h3>\\n         <ul>\\n          <li>\\n           <div class=\"global_subnav_container\">\\n            <ul class=\"subnav\">\\n             <li>\\n              <a href=\"/#red_planet/0\" target=\"_self\">\\n               Dashboard\\n              </a>\\n             </li>\\n             <li>\\n              <a href=\"/#red_planet/1\" target=\"_self\">\\n               Science Goals\\n              </a>\\n             </li>\\n             <li>\\n              <a href=\"/#red_planet/2\" target=\"_self\">\\n               The Planet\\n              </a>\\n             </li>\\n             <li>\\n              <a href=\"/#red_planet/3\" target=\"_self\">\\n               Atmosphere\\n              </a>\\n             </li>\\n             <li>\\n              <a href=\"/#red_planet/4\" target=\"_self\">\\n               Astrobiology\\n              </a>\\n             </li>\\n             <li>\\n              <a href=\"/#red_planet/5\" target=\"_self\">\\n               Past, Present, Future, Timeline\\n              </a>\\n             </li>\\n            </ul>\\n           </div>\\n          </li>\\n         </ul>\\n        </div>\\n       </div>\\n       <div class=\"sitemap_block\" style=\"position: absolute; left: 205px; top: 0px;\">\\n        <div class=\"footer_sitemap_item\">\\n         <h3 class=\"sitemap_title\">\\n          <a href=\"/#mars_exploration_program\">\\n           The Program\\n          </a>\\n         </h3>\\n         <ul>\\n          <li>\\n           <div class=\"global_subnav_container\">\\n            <ul class=\"subnav\">\\n             <li>\\n              <a href=\"/#mars_exploration_program/0\" target=\"_self\">\\n               Mission Statement\\n              </a>\\n             </li>\\n             <li>\\n              <a href=\"/#mars_exploration_program/1\" target=\"_self\">\\n               About the Program\\n              </a>\\n             </li>\\n             <li>\\n              <a href=\"/#mars_exploration_program/2\" target=\"_self\">\\n               Organization\\n              </a>\\n             </li>\\n             <li>\\n              <a href=\"/#mars_exploration_program/3\" target=\"_self\">\\n               Why Mars?\\n              </a>\\n             </li>\\n             <li>\\n              <a href=\"/#mars_exploration_program/4\" target=\"_self\">\\n               Research Programs\\n              </a>\\n             </li>\\n             <li>\\n              <a href=\"/#mars_exploration_program/5\" target=\"_self\">\\n               Planetary Resources\\n              </a>\\n             </li>\\n             <li>\\n              <a href=\"/#mars_exploration_program/6\" target=\"_self\">\\n               Technologies\\n              </a>\\n             </li>\\n            </ul>\\n           </div>\\n          </li>\\n         </ul>\\n        </div>\\n       </div>\\n       <div class=\"sitemap_block\" style=\"position: absolute; left: 410px; top: 0px;\">\\n        <div class=\"footer_sitemap_item\">\\n         <h3 class=\"sitemap_title\">\\n          <a href=\"/#news_and_events\">\\n           News &amp; Events\\n          </a>\\n         </h3>\\n         <ul>\\n          <li>\\n           <div class=\"global_subnav_container\">\\n            <ul class=\"subnav\">\\n             <li class=\"current\">\\n              <a href=\"/news\" target=\"_self\">\\n               News\\n              </a>\\n             </li>\\n             <li>\\n              <a href=\"/events\" target=\"_self\">\\n               Events\\n              </a>\\n             </li>\\n            </ul>\\n           </div>\\n          </li>\\n         </ul>\\n        </div>\\n       </div>\\n       <div class=\"sitemap_block\" style=\"position: absolute; left: 615px; top: 0px;\">\\n        <div class=\"footer_sitemap_item\">\\n         <h3 class=\"sitemap_title\">\\n          <a href=\"/#multimedia\">\\n           Multimedia\\n          </a>\\n         </h3>\\n         <ul>\\n          <li>\\n           <div class=\"global_subnav_container\">\\n            <ul class=\"subnav\">\\n             <li>\\n              <a href=\"/multimedia/images/\" target=\"_self\">\\n               Images\\n              </a>\\n             </li>\\n             <li>\\n              <a href=\"/multimedia/videos/\" target=\"_self\">\\n               Videos\\n              </a>\\n             </li>\\n            </ul>\\n           </div>\\n          </li>\\n         </ul>\\n        </div>\\n       </div>\\n       <div class=\"sitemap_block\" style=\"position: absolute; left: 410px; top: 108px;\">\\n        <div class=\"footer_sitemap_item\">\\n         <h3 class=\"sitemap_title\">\\n          <a href=\"/#missions\">\\n           Missions\\n          </a>\\n         </h3>\\n         <ul>\\n          <li>\\n           <div class=\"global_subnav_container\">\\n            <ul class=\"subnav\">\\n             <li>\\n              <a href=\"/mars-exploration/missions/?category=167\" target=\"_self\">\\n               Past\\n              </a>\\n             </li>\\n             <li>\\n              <a href=\"/mars-exploration/missions/?category=170\" target=\"_self\">\\n               Present\\n              </a>\\n             </li>\\n             <li>\\n              <a href=\"/mars-exploration/missions/?category=171\" target=\"_self\">\\n               Future\\n              </a>\\n             </li>\\n             <li>\\n              <a href=\"/mars-exploration/partners\" target=\"_self\">\\n               International Partners\\n              </a>\\n             </li>\\n            </ul>\\n           </div>\\n          </li>\\n         </ul>\\n        </div>\\n       </div>\\n       <div class=\"sitemap_block\" style=\"position: absolute; left: 615px; top: 108px;\">\\n        <div class=\"footer_sitemap_item\">\\n         <h3 class=\"sitemap_title\">\\n          <a href=\"/#more\">\\n           More\\n          </a>\\n         </h3>\\n         <ul>\\n          <li>\\n           <div class=\"global_subnav_container\">\\n            <ul class=\"subnav\">\\n            </ul>\\n           </div>\\n          </li>\\n         </ul>\\n        </div>\\n       </div>\\n       <div class=\"sitemap_block\" style=\"position: absolute; left: 615px; top: 161px;\">\\n        <div class=\"footer_sitemap_item\">\\n         <h3 class=\"sitemap_title\">\\n          <a href=\"/legacy\">\\n           Legacy Site\\n          </a>\\n         </h3>\\n         <ul>\\n          <li>\\n           <div class=\"global_subnav_container\">\\n            <ul class=\"subnav\">\\n             <li>\\n              <a class=\"\" href=\"/legacy\" target=\"_self\">\\n               Legacy Site\\n              </a>\\n             </li>\\n            </ul>\\n           </div>\\n          </li>\\n         </ul>\\n        </div>\\n       </div>\\n      </div>\\n      <div class=\"gradient_line\">\\n      </div>\\n     </section>\\n     <section class=\"lower_footer\">\\n      <div class=\"nav_container\">\\n       <nav>\\n        <ul>\\n         <li>\\n          <a href=\"http://science.nasa.gov/\" target=\"_blank\">\\n           NASA Science Mission Directorate\\n          </a>\\n         </li>\\n         <li>\\n          <a href=\"https://www.jpl.nasa.gov/copyrights.php\" target=\"_blank\">\\n           Privacy\\n          </a>\\n         </li>\\n         <li>\\n          <a href=\"http://www.jpl.nasa.gov/imagepolicy/\" target=\"_blank\">\\n           Image Policy\\n          </a>\\n         </li>\\n         <li>\\n          <a href=\"https://mars.nasa.gov/feedback/\" target=\"_self\">\\n           Feedback\\n          </a>\\n         </li>\\n         <li>\\n          <a href=\"http://mars.nasa.gov/legacy\" target=\"_blank\">\\n           Legacy Mars Site\\n          </a>\\n         </li>\\n        </ul>\\n       </nav>\\n      </div>\\n      <div class=\"credits\">\\n       <div class=\"footer_brands_top\">\\n        <p>\\n         Managed by the Mars Exploration Program and the Jet Propulsion Laboratory for NASA’s Science Mission Directorate\\n        </p>\\n       </div>\\n       <!-- .footer_brands -->\\n       <!-- %a.jpl{href: \"\", target: \"_blank\"}Institution -->\\n       <!-- -->\\n       <!-- %a.caltech{href: \"\", target: \"_blank\"}Institution -->\\n       <!-- .staff -->\\n       <!-- %p -->\\n       <!-- - get_staff_for_category(get_field_from_admin_config(:web_staff_category_id)) -->\\n       <!-- - @staff.each_with_index do |staff, idx| -->\\n       <!-- - unless staff.is_in_footer == 0 -->\\n       <!-- = staff.title + \": \" -->\\n       <!-- - if staff.contact_link =~ /@/ -->\\n       <!-- = mail_to staff.contact_link, staff.name, :subject => \"[#{@site_title}]\" -->\\n       <!-- - elsif staff.contact_link.present? -->\\n       <!-- = link_to staff.name, staff.contact_link -->\\n       <!-- - else -->\\n       <!-- = staff.name -->\\n       <!-- - unless (idx + 1 == @staff.size) -->\\n       <!-- %br -->\\n      </div>\\n     </section>\\n    </div>\\n   </footer>\\n  </div>\\n </div>\\n <script id=\"_fed_an_ua_tag\" src=\"https://dap.digitalgov.gov/Universal-Federated-Analytics-Min.js?agency=NASA&amp;subagency=JPL-Mars-MEPJPL&amp;pua=UA-9453474-9,UA-118212757-11&amp;dclink=true&amp;sp=searchbox&amp;exts=tif,tiff,wav\" type=\"text/javascript\">\\n </script>\\n <div id=\"_atssh\" style=\"visibility: hidden; height: 1px; width: 1px; position: absolute; top: -9999px; z-index: 100000;\">\\n  <iframe id=\"_atssh62\" src=\"https://s7.addthis.com/static/sh.c956e844191efb1519c915a8.html#rand=0.2476179762375157&amp;iit=1525377106287&amp;tmr=load%3D1525377106226%26core%3D1525377106262%26main%3D1525377106284%26ifr%3D1525377106292&amp;cb=0&amp;cdn=0&amp;md=0&amp;kw=Mars%2Cmissions%2CNASA%2Crover%2CCuriosity%2COpportunity%2CInSight%2CMars%20Reconnaissance%20Orbiter%2Cfacts&amp;ab=-&amp;dh=mars.nasa.gov&amp;dr=&amp;du=https%3A%2F%2Fmars.nasa.gov%2Fnews%2F%3Fpage%3D0%26per_page%3D40%26order%3Dpublish_date%2Bdesc%252Ccreated_at%2Bdesc%26search%3D%26category%3D19%252C165%252C184%252C204%26blank_scope%3DLatest&amp;href=https%3A%2F%2Fmars.nasa.gov%2Fnews%2F&amp;dt=NASA%E2%80%99s%20Mars%20Exploration%20Program%20%3A%20News&amp;dbg=0&amp;cap=tc%3D0%26ab%3D0&amp;inst=1&amp;jsl=1&amp;prod=undefined&amp;lng=en&amp;ogt=image%2Cupdated_time%2Ctype%3Darticle%2Curl%2Ctitle%2Cdescription%2Csite_name&amp;pc=men&amp;pub=ra-5a690e4c1320e328&amp;ssl=1&amp;sid=5aeb6852eedddbd7&amp;srf=0.01&amp;ver=300&amp;xck=1&amp;xtr=0&amp;og=site_name%3DNASA%25E2%2580%2599s%2520Mars%2520Exploration%2520Program%26description%3DNASA%25E2%2580%2599s%2520real-time%2520portal%2520for%2520Mars%2520exploration%252C%2520featuring%2520the%2520last%2520news%252C%2520images%252C%2520and%2520discoveries%2520from%2520the%2520Red%2520Planet.%26title%3DNASA%25E2%2580%2599s%2520Mars%2520Exploration%2520Program%2520%253A%2520News%26url%3Dhttps%253A%252F%252Fmars.nasa.gov%252Fnews%26type%3Darticle%26updated_time%3D2017-09-22%252019%253A53%253A22%2520UTC%26image%3Dhttps%253A%252F%252Fmars.nasa.gov%252Fsystem%252Fsite_config_values%252Fmeta_share_images%252F1_142497main_PIA03154-200.jpg&amp;csi=undefined&amp;rev=v8.3.10-wp&amp;ct=1&amp;xld=1&amp;xd=1\" style=\"height: 1px; width: 1px; position: absolute; top: 0px; z-index: 100000; border: 0px; left: 0px;\" title=\"AddThis utility frame\">\\n  </iframe>\\n </div>\\n <style id=\"service-icons-0\">\\n </style>\\n <div aria-labelledby=\"at4-share-label\" class=\"addthis-smartlayers addthis-smartlayers-desktop\" role=\"region\">\\n  <div id=\"at4-share-label\">\\n   AddThis Sharing Sidebar\\n  </div>\\n  <div class=\"at4-share addthis_32x32_style atss atss-left addthis-animated slideInLeft\" id=\"at4-share\">\\n   <a class=\"at-share-btn at-svc-facebook\" role=\"button\" tabindex=\"1\">\\n    <span class=\"at4-visually-hidden\">\\n     Share to Facebook\\n    </span>\\n    <span class=\"at-icon-wrapper\" style=\"background-color: rgb(59, 89, 152);\">\\n     <svg aria-labelledby=\"at-svg-facebook-1\" class=\"at-icon at-icon-facebook\" role=\"img\" style=\"fill: rgb(255, 255, 255);\" version=\"1.1\" viewbox=\"0 0 32 32\" xmlns=\"http://www.w3.org/2000/svg\" xmlns:xlink=\"http://www.w3.org/1999/xlink\">\\n      <title id=\"at-svg-facebook-1\" xmlns=\"http://www.w3.org/1999/xhtml\">\\n       Facebook\\n      </title>\\n      <g>\\n       <path d=\"M22 5.16c-.406-.054-1.806-.16-3.43-.16-3.4 0-5.733 1.825-5.733 5.17v2.882H9v3.913h3.837V27h4.604V16.965h3.823l.587-3.913h-4.41v-2.5c0-1.123.347-1.903 2.198-1.903H22V5.16z\" fill-rule=\"evenodd\">\\n       </path>\\n      </g>\\n     </svg>\\n    </span>\\n   </a>\\n   <a class=\"at-share-btn at-svc-twitter\" role=\"button\" tabindex=\"1\">\\n    <span class=\"at4-visually-hidden\">\\n     Share to Twitter\\n    </span>\\n    <span class=\"at-icon-wrapper\" style=\"background-color: rgb(29, 161, 242);\">\\n     <svg aria-labelledby=\"at-svg-twitter-2\" class=\"at-icon at-icon-twitter\" role=\"img\" style=\"fill: rgb(255, 255, 255);\" version=\"1.1\" viewbox=\"0 0 32 32\" xmlns=\"http://www.w3.org/2000/svg\" xmlns:xlink=\"http://www.w3.org/1999/xlink\">\\n      <title id=\"at-svg-twitter-2\" xmlns=\"http://www.w3.org/1999/xhtml\">\\n       Twitter\\n      </title>\\n      <g>\\n       <path d=\"M27.996 10.116c-.81.36-1.68.602-2.592.71a4.526 4.526 0 0 0 1.984-2.496 9.037 9.037 0 0 1-2.866 1.095 4.513 4.513 0 0 0-7.69 4.116 12.81 12.81 0 0 1-9.3-4.715 4.49 4.49 0 0 0-.612 2.27 4.51 4.51 0 0 0 2.008 3.755 4.495 4.495 0 0 1-2.044-.564v.057a4.515 4.515 0 0 0 3.62 4.425 4.52 4.52 0 0 1-2.04.077 4.517 4.517 0 0 0 4.217 3.134 9.055 9.055 0 0 1-5.604 1.93A9.18 9.18 0 0 1 6 23.85a12.773 12.773 0 0 0 6.918 2.027c8.3 0 12.84-6.876 12.84-12.84 0-.195-.005-.39-.014-.583a9.172 9.172 0 0 0 2.252-2.336\" fill-rule=\"evenodd\">\\n       </path>\\n      </g>\\n     </svg>\\n    </span>\\n   </a>\\n   <a class=\"at-share-btn at-svc-reddit\" role=\"button\" tabindex=\"1\">\\n    <span class=\"at4-visually-hidden\">\\n     Share to Reddit\\n    </span>\\n    <span class=\"at-icon-wrapper\" style=\"background-color: rgb(255, 87, 0);\">\\n     <svg aria-labelledby=\"at-svg-reddit-3\" class=\"at-icon at-icon-reddit\" role=\"img\" style=\"fill: rgb(255, 255, 255);\" version=\"1.1\" viewbox=\"0 0 32 32\" xmlns=\"http://www.w3.org/2000/svg\" xmlns:xlink=\"http://www.w3.org/1999/xlink\">\\n      <title id=\"at-svg-reddit-3\" xmlns=\"http://www.w3.org/1999/xhtml\">\\n       Reddit\\n      </title>\\n      <g>\\n       <path d=\"M27 15.5a2.452 2.452 0 0 1-1.338 2.21c.098.38.147.777.147 1.19 0 1.283-.437 2.47-1.308 3.563-.872 1.092-2.06 1.955-3.567 2.588-1.506.634-3.143.95-4.91.95-1.768 0-3.403-.316-4.905-.95-1.502-.632-2.69-1.495-3.56-2.587-.872-1.092-1.308-2.28-1.308-3.562 0-.388.045-.777.135-1.166a2.47 2.47 0 0 1-1.006-.912c-.253-.4-.38-.842-.38-1.322 0-.678.237-1.26.712-1.744a2.334 2.334 0 0 1 1.73-.726c.697 0 1.29.26 1.78.782 1.785-1.258 3.893-1.928 6.324-2.01l1.424-6.467a.42.42 0 0 1 .184-.26.4.4 0 0 1 .32-.063l4.53 1.006c.147-.306.368-.553.662-.74a1.78 1.78 0 0 1 .97-.278c.508 0 .94.18 1.302.54.36.36.54.796.54 1.31 0 .512-.18.95-.54 1.315-.36.364-.794.546-1.302.546-.507 0-.94-.18-1.295-.54a1.793 1.793 0 0 1-.533-1.308l-4.1-.92-1.277 5.86c2.455.074 4.58.736 6.37 1.985a2.315 2.315 0 0 1 1.757-.757c.68 0 1.256.242 1.73.726.476.484.713 1.066.713 1.744zm-16.868 2.47c0 .513.178.95.534 1.315.356.365.787.547 1.295.547.508 0 .942-.182 1.302-.547.36-.364.54-.802.54-1.315 0-.513-.18-.95-.54-1.31-.36-.36-.794-.54-1.3-.54-.5 0-.93.183-1.29.547a1.79 1.79 0 0 0-.54 1.303zm9.944 4.406c.09-.09.135-.2.135-.323a.444.444 0 0 0-.44-.447c-.124 0-.23.042-.32.124-.336.348-.83.605-1.486.77a7.99 7.99 0 0 1-1.964.248 7.99 7.99 0 0 1-1.964-.248c-.655-.165-1.15-.422-1.486-.77a.456.456 0 0 0-.32-.124.414.414 0 0 0-.306.124.41.41 0 0 0-.135.317.45.45 0 0 0 .134.33c.352.355.837.636 1.455.843.617.207 1.118.33 1.503.366a11.6 11.6 0 0 0 1.117.056c.36 0 .733-.02 1.117-.056.385-.037.886-.16 1.504-.366.62-.207 1.104-.488 1.456-.844zm-.037-2.544c.507 0 .938-.182 1.294-.547.356-.364.534-.802.534-1.315 0-.505-.18-.94-.54-1.303a1.75 1.75 0 0 0-1.29-.546c-.506 0-.94.18-1.3.54-.36.36-.54.797-.54 1.31s.18.95.54 1.315c.36.365.794.547 1.3.547z\" fill-rule=\"evenodd\">\\n       </path>\\n      </g>\\n     </svg>\\n    </span>\\n   </a>\\n   <a class=\"at-share-btn at-svc-email\" role=\"button\" tabindex=\"1\">\\n    <span class=\"at4-visually-hidden\">\\n     Share to Email\\n    </span>\\n    <span class=\"at-icon-wrapper\" style=\"background-color: rgb(132, 132, 132);\">\\n     <svg aria-labelledby=\"at-svg-email-4\" class=\"at-icon at-icon-email\" role=\"img\" style=\"fill: rgb(255, 255, 255);\" version=\"1.1\" viewbox=\"0 0 32 32\" xmlns=\"http://www.w3.org/2000/svg\" xmlns:xlink=\"http://www.w3.org/1999/xlink\">\\n      <title id=\"at-svg-email-4\" xmlns=\"http://www.w3.org/1999/xhtml\">\\n       Email\\n      </title>\\n      <g>\\n       <g fill-rule=\"evenodd\">\\n       </g>\\n       <path d=\"M27 22.757c0 1.24-.988 2.243-2.19 2.243H7.19C5.98 25 5 23.994 5 22.757V13.67c0-.556.39-.773.855-.496l8.78 5.238c.782.467 1.95.467 2.73 0l8.78-5.238c.472-.28.855-.063.855.495v9.087z\">\\n       </path>\\n       <path d=\"M27 9.243C27 8.006 26.02 7 24.81 7H7.19C5.988 7 5 8.004 5 9.243v.465c0 .554.385 1.232.857 1.514l9.61 5.733c.267.16.8.16 1.067 0l9.61-5.733c.473-.283.856-.96.856-1.514v-.465z\">\\n       </path>\\n      </g>\\n     </svg>\\n    </span>\\n   </a>\\n   <a class=\"at-share-btn at-svc-compact\" role=\"button\" tabindex=\"1\">\\n    <span class=\"at4-visually-hidden\">\\n     More AddThis Share options\\n    </span>\\n    <span class=\"at-icon-wrapper\" style=\"background-color: rgb(255, 101, 80);\">\\n     <svg aria-labelledby=\"at-svg-addthis-5\" class=\"at-icon at-icon-addthis\" role=\"img\" style=\"fill: rgb(255, 255, 255);\" version=\"1.1\" viewbox=\"0 0 32 32\" xmlns=\"http://www.w3.org/2000/svg\" xmlns:xlink=\"http://www.w3.org/1999/xlink\">\\n      <title id=\"at-svg-addthis-5\" xmlns=\"http://www.w3.org/1999/xhtml\">\\n       Addthis\\n      </title>\\n      <g>\\n       <path d=\"M18 14V8h-4v6H8v4h6v6h4v-6h6v-4h-6z\" fill-rule=\"evenodd\">\\n       </path>\\n      </g>\\n     </svg>\\n    </span>\\n   </a>\\n   <div class=\"at-custom-sidebar-counter\" style=\"width: 48px; word-wrap: break-word;\">\\n    <div class=\"at-custom-sidebar-count\" style=\"color: rgb(34, 34, 34);\">\\n     10\\n    </div>\\n    <div class=\"at-custom-sidebar-text\" style=\"color: rgb(34, 34, 34);\">\\n     SHARES\\n    </div>\\n   </div>\\n   <div class=\"at-share-close-control ats-transparent at4-hide-content at4-show\" id=\"at4-scc\" title=\"Hide\">\\n    <div class=\"at4-arrow at-left\">\\n     Hide\\n    </div>\\n   </div>\\n  </div>\\n  <div class=\"at-share-open-control at-share-open-control-left ats-transparent at4-hide\" id=\"at4-soc\" title=\"Show\">\\n   <div class=\"at4-arrow at-right\">\\n    Show\\n   </div>\\n  </div>\\n </div>\\n <div aria-labelledby=\"at-thankyou-label\" class=\"at4-thankyou at4-thankyou-background at4-hide ats-transparent at4-thankyou-desktop addthis-smartlayers addthis-animated fadeIn at4-show\" id=\"at4-thankyou\" role=\"dialog\">\\n  <div class=\"at4lb-inner\">\\n   <button class=\"at4x\" title=\"Close\">\\n    Close\\n   </button>\\n   <a id=\"at4-palogo\">\\n    <div>\\n     <a class=\"at-branding-logo\" href=\"//www.addthis.com/website-tools/overview?utm_source=AddThis%20Tools&amp;utm_medium=image\" target=\"_blank\" title=\"Powered by AddThis\">\\n      <div class=\"at-branding-icon\">\\n      </div>\\n      <span class=\"at-branding-addthis\">\\n       AddThis\\n      </span>\\n     </a>\\n    </div>\\n   </a>\\n   <div class=\"at4-thankyou-inner\">\\n    <div class=\"thankyou-title\" id=\"at-thankyou-label\">\\n    </div>\\n    <div class=\"thankyou-description\">\\n    </div>\\n    <div class=\"at4-thankyou-layer\">\\n    </div>\\n   </div>\\n  </div>\\n </div>\\n <div aria-labelledby=\"at-share-dock-label\" class=\"at-share-dock-outer at4-hide addthis-smartlayers at4-visually-hidden addthis-smartlayers-mobile\" role=\"region\">\\n  <div class=\"at4-hide\" id=\"at-share-dock-label\">\\n   AddThis Sharing\\n  </div>\\n  <div class=\"at-share-dock atss atss-bottom at-shfs-small addthis-animated slideInUp at4-show at4-hide\" id=\"at-share-dock\">\\n   <a class=\"at4-count\" href=\"#\" style=\"width: 16.6667%;\">\\n    <span class=\"at4-counter\">\\n    </span>\\n    <span class=\"at4-share-label\">\\n     SHARES\\n    </span>\\n   </a>\\n   <a class=\"at-share-btn at-svc-facebook\" role=\"button\" style=\"width: 16.6667%;\" tabindex=\"1\" title=\"Facebook\">\\n    <span class=\"at-icon-wrapper\" style=\"background-color: rgb(59, 89, 152);\">\\n     <svg alt=\"Facebook\" aria-labelledby=\"at-svg-facebook-6\" class=\"at-icon at-icon-facebook\" role=\"img\" style=\"fill: rgb(255, 255, 255); width: 24px; height: 24px;\" title=\"Facebook\" version=\"1.1\" viewbox=\"0 0 32 32\" xmlns=\"http://www.w3.org/2000/svg\" xmlns:xlink=\"http://www.w3.org/1999/xlink\">\\n      <title id=\"at-svg-facebook-6\" xmlns=\"http://www.w3.org/1999/xhtml\">\\n       Facebook\\n      </title>\\n      <g>\\n       <path d=\"M22 5.16c-.406-.054-1.806-.16-3.43-.16-3.4 0-5.733 1.825-5.733 5.17v2.882H9v3.913h3.837V27h4.604V16.965h3.823l.587-3.913h-4.41v-2.5c0-1.123.347-1.903 2.198-1.903H22V5.16z\" fill-rule=\"evenodd\">\\n       </path>\\n      </g>\\n     </svg>\\n    </span>\\n   </a>\\n   <a class=\"at-share-btn at-svc-twitter\" role=\"button\" style=\"width: 16.6667%;\" tabindex=\"1\" title=\"Twitter\">\\n    <span class=\"at-icon-wrapper\" style=\"background-color: rgb(29, 161, 242);\">\\n     <svg alt=\"Twitter\" aria-labelledby=\"at-svg-twitter-7\" class=\"at-icon at-icon-twitter\" role=\"img\" style=\"fill: rgb(255, 255, 255); width: 24px; height: 24px;\" title=\"Twitter\" version=\"1.1\" viewbox=\"0 0 32 32\" xmlns=\"http://www.w3.org/2000/svg\" xmlns:xlink=\"http://www.w3.org/1999/xlink\">\\n      <title id=\"at-svg-twitter-7\" xmlns=\"http://www.w3.org/1999/xhtml\">\\n       Twitter\\n      </title>\\n      <g>\\n       <path d=\"M27.996 10.116c-.81.36-1.68.602-2.592.71a4.526 4.526 0 0 0 1.984-2.496 9.037 9.037 0 0 1-2.866 1.095 4.513 4.513 0 0 0-7.69 4.116 12.81 12.81 0 0 1-9.3-4.715 4.49 4.49 0 0 0-.612 2.27 4.51 4.51 0 0 0 2.008 3.755 4.495 4.495 0 0 1-2.044-.564v.057a4.515 4.515 0 0 0 3.62 4.425 4.52 4.52 0 0 1-2.04.077 4.517 4.517 0 0 0 4.217 3.134 9.055 9.055 0 0 1-5.604 1.93A9.18 9.18 0 0 1 6 23.85a12.773 12.773 0 0 0 6.918 2.027c8.3 0 12.84-6.876 12.84-12.84 0-.195-.005-.39-.014-.583a9.172 9.172 0 0 0 2.252-2.336\" fill-rule=\"evenodd\">\\n       </path>\\n      </g>\\n     </svg>\\n    </span>\\n   </a>\\n   <a class=\"at-share-btn at-svc-reddit\" role=\"button\" style=\"width: 16.6667%;\" tabindex=\"1\" title=\"Reddit\">\\n    <span class=\"at-icon-wrapper\" style=\"background-color: rgb(255, 87, 0);\">\\n     <svg alt=\"Reddit\" aria-labelledby=\"at-svg-reddit-8\" class=\"at-icon at-icon-reddit\" role=\"img\" style=\"fill: rgb(255, 255, 255); width: 24px; height: 24px;\" title=\"Reddit\" version=\"1.1\" viewbox=\"0 0 32 32\" xmlns=\"http://www.w3.org/2000/svg\" xmlns:xlink=\"http://www.w3.org/1999/xlink\">\\n      <title id=\"at-svg-reddit-8\" xmlns=\"http://www.w3.org/1999/xhtml\">\\n       Reddit\\n      </title>\\n      <g>\\n       <path d=\"M27 15.5a2.452 2.452 0 0 1-1.338 2.21c.098.38.147.777.147 1.19 0 1.283-.437 2.47-1.308 3.563-.872 1.092-2.06 1.955-3.567 2.588-1.506.634-3.143.95-4.91.95-1.768 0-3.403-.316-4.905-.95-1.502-.632-2.69-1.495-3.56-2.587-.872-1.092-1.308-2.28-1.308-3.562 0-.388.045-.777.135-1.166a2.47 2.47 0 0 1-1.006-.912c-.253-.4-.38-.842-.38-1.322 0-.678.237-1.26.712-1.744a2.334 2.334 0 0 1 1.73-.726c.697 0 1.29.26 1.78.782 1.785-1.258 3.893-1.928 6.324-2.01l1.424-6.467a.42.42 0 0 1 .184-.26.4.4 0 0 1 .32-.063l4.53 1.006c.147-.306.368-.553.662-.74a1.78 1.78 0 0 1 .97-.278c.508 0 .94.18 1.302.54.36.36.54.796.54 1.31 0 .512-.18.95-.54 1.315-.36.364-.794.546-1.302.546-.507 0-.94-.18-1.295-.54a1.793 1.793 0 0 1-.533-1.308l-4.1-.92-1.277 5.86c2.455.074 4.58.736 6.37 1.985a2.315 2.315 0 0 1 1.757-.757c.68 0 1.256.242 1.73.726.476.484.713 1.066.713 1.744zm-16.868 2.47c0 .513.178.95.534 1.315.356.365.787.547 1.295.547.508 0 .942-.182 1.302-.547.36-.364.54-.802.54-1.315 0-.513-.18-.95-.54-1.31-.36-.36-.794-.54-1.3-.54-.5 0-.93.183-1.29.547a1.79 1.79 0 0 0-.54 1.303zm9.944 4.406c.09-.09.135-.2.135-.323a.444.444 0 0 0-.44-.447c-.124 0-.23.042-.32.124-.336.348-.83.605-1.486.77a7.99 7.99 0 0 1-1.964.248 7.99 7.99 0 0 1-1.964-.248c-.655-.165-1.15-.422-1.486-.77a.456.456 0 0 0-.32-.124.414.414 0 0 0-.306.124.41.41 0 0 0-.135.317.45.45 0 0 0 .134.33c.352.355.837.636 1.455.843.617.207 1.118.33 1.503.366a11.6 11.6 0 0 0 1.117.056c.36 0 .733-.02 1.117-.056.385-.037.886-.16 1.504-.366.62-.207 1.104-.488 1.456-.844zm-.037-2.544c.507 0 .938-.182 1.294-.547.356-.364.534-.802.534-1.315 0-.505-.18-.94-.54-1.303a1.75 1.75 0 0 0-1.29-.546c-.506 0-.94.18-1.3.54-.36.36-.54.797-.54 1.31s.18.95.54 1.315c.36.365.794.547 1.3.547z\" fill-rule=\"evenodd\">\\n       </path>\\n      </g>\\n     </svg>\\n    </span>\\n   </a>\\n   <a class=\"at-share-btn at-svc-email\" role=\"button\" style=\"width: 16.6667%;\" tabindex=\"1\" title=\"Email\">\\n    <span class=\"at-icon-wrapper\" style=\"background-color: rgb(132, 132, 132);\">\\n     <svg alt=\"Email\" aria-labelledby=\"at-svg-email-9\" class=\"at-icon at-icon-email\" role=\"img\" style=\"fill: rgb(255, 255, 255); width: 24px; height: 24px;\" title=\"Email\" version=\"1.1\" viewbox=\"0 0 32 32\" xmlns=\"http://www.w3.org/2000/svg\" xmlns:xlink=\"http://www.w3.org/1999/xlink\">\\n      <title id=\"at-svg-email-9\" xmlns=\"http://www.w3.org/1999/xhtml\">\\n       Email\\n      </title>\\n      <g>\\n       <g fill-rule=\"evenodd\">\\n       </g>\\n       <path d=\"M27 22.757c0 1.24-.988 2.243-2.19 2.243H7.19C5.98 25 5 23.994 5 22.757V13.67c0-.556.39-.773.855-.496l8.78 5.238c.782.467 1.95.467 2.73 0l8.78-5.238c.472-.28.855-.063.855.495v9.087z\">\\n       </path>\\n       <path d=\"M27 9.243C27 8.006 26.02 7 24.81 7H7.19C5.988 7 5 8.004 5 9.243v.465c0 .554.385 1.232.857 1.514l9.61 5.733c.267.16.8.16 1.067 0l9.61-5.733c.473-.283.856-.96.856-1.514v-.465z\">\\n       </path>\\n      </g>\\n     </svg>\\n    </span>\\n   </a>\\n   <a class=\"at-share-btn at-svc-compact\" role=\"button\" style=\"width: 16.6667%;\" tabindex=\"1\" title=\"More\">\\n    <span class=\"at-icon-wrapper\" style=\"background-color: rgb(255, 101, 80);\">\\n     <svg alt=\"More\" aria-labelledby=\"at-svg-addthis-10\" class=\"at-icon at-icon-addthis\" role=\"img\" style=\"fill: rgb(255, 255, 255); width: 24px; height: 24px;\" title=\"More\" version=\"1.1\" viewbox=\"0 0 32 32\" xmlns=\"http://www.w3.org/2000/svg\" xmlns:xlink=\"http://www.w3.org/1999/xlink\">\\n      <title id=\"at-svg-addthis-10\" xmlns=\"http://www.w3.org/1999/xhtml\">\\n       Addthis\\n      </title>\\n      <g>\\n       <path d=\"M18 14V8h-4v6H8v4h6v6h4v-6h6v-4h-6z\" fill-rule=\"evenodd\">\\n       </path>\\n      </g>\\n     </svg>\\n    </span>\\n   </a>\\n  </div>\\n </div>\\n</body>'"
      ]
     },
     "execution_count": 37,
     "metadata": {},
     "output_type": "execute_result"
    }
   ],
   "source": [
    "soup.body.prettify()"
   ]
  },
  {
   "cell_type": "code",
   "execution_count": 38,
   "metadata": {},
   "outputs": [
    {
     "name": "stdout",
     "output_type": "stream",
     "text": [
      "Vice President Pence Visits JPL, Previews NASA’s Next Mars Mission Launch\n"
     ]
    }
   ],
   "source": [
    "# Extract news title text\n",
    "title = soup.find('div', class_='bottom_gradient').text\n",
    "print(title)"
   ]
  },
  {
   "cell_type": "code",
   "execution_count": 39,
   "metadata": {},
   "outputs": [
    {
     "name": "stdout",
     "output_type": "stream",
     "text": [
      "A week before NASA's next Mars launch, Vice President Mike Pence toured the birthplace of the InSight Mars Lander and numerous other past, present and future space missions.\n"
     ]
    }
   ],
   "source": [
    "# Extract paragraph text\n",
    "paragraph = soup.find('div', class_='rollover_description_inner').text\n",
    "print(paragraph)"
   ]
  },
  {
   "cell_type": "markdown",
   "metadata": {},
   "source": [
    "### JPL Mars Space Images - Featured Image"
   ]
  },
  {
   "cell_type": "code",
   "execution_count": 7,
   "metadata": {},
   "outputs": [],
   "source": [
    "# Visit the url for JPL's Featured Space Image here.\n",
    "# Use splinter to navigate the site and find the image url for \n",
    "# the current Featured Mars Image and assign the url string to a variable called featured_image_url.\n",
    "# Make sure to find the image url to the full size .jpg image.\n",
    "# Make sure to save a complete url string for this image.\n",
    "\n",
    "# # Example:\n",
    "# featured_image_url = 'https://www.jpl.nasa.gov/spaceimages/images/largesize/PIA16225_hires.jpg'"
   ]
  },
  {
   "cell_type": "code",
   "execution_count": 11,
   "metadata": {},
   "outputs": [],
   "source": [
    "from splinter import Browser\n",
    "browser = Browser('chrome', headless=False)\n",
    "img_url = 'https://www.jpl.nasa.gov/spaceimages/'\n",
    "browser.visit(img_url)"
   ]
  },
  {
   "cell_type": "code",
   "execution_count": 12,
   "metadata": {},
   "outputs": [],
   "source": [
    "browser.click_link_by_id('full_image')"
   ]
  },
  {
   "cell_type": "code",
   "execution_count": 13,
   "metadata": {},
   "outputs": [],
   "source": [
    "browser.find_link_by_partial_text('more info').click()"
   ]
  },
  {
   "cell_type": "code",
   "execution_count": 14,
   "metadata": {},
   "outputs": [],
   "source": [
    "browser.find_link_by_partial_text('.jpg').click()"
   ]
  },
  {
   "cell_type": "code",
   "execution_count": 15,
   "metadata": {},
   "outputs": [
    {
     "data": {
      "text/plain": [
       "'https://photojournal.jpl.nasa.gov/jpeg/PIA17200.jpg'"
      ]
     },
     "execution_count": 15,
     "metadata": {},
     "output_type": "execute_result"
    }
   ],
   "source": [
    "featured_image_url = browser.find_by_tag('img')['src']\n",
    "featured_image_url"
   ]
  },
  {
   "cell_type": "markdown",
   "metadata": {},
   "source": [
    "### Mars Weather"
   ]
  },
  {
   "cell_type": "code",
   "execution_count": 16,
   "metadata": {},
   "outputs": [],
   "source": [
    "# Visit the Mars Weather twitter account here \n",
    "# and scrape the latest Mars weather tweet from the page. \n",
    "# Save the tweet text for the weather report \n",
    "# as a variable called mars_weather.\n",
    "\n",
    "# Example:\n",
    "# mars_weather = \\\n",
    "# 'Sol 1801 (Aug 30, 2017), Sunny, high -21C/-5F, low -80C/-112F, pressure at 8.82 hPa, daylight 06:09-17:55'"
   ]
  },
  {
   "cell_type": "code",
   "execution_count": 17,
   "metadata": {},
   "outputs": [],
   "source": [
    "browser = Browser('chrome', headless=False)\n",
    "tw_acct_url = 'https://twitter.com/marswxreport?lang=en'\n",
    "browser.visit(tw_acct_url)"
   ]
  },
  {
   "cell_type": "code",
   "execution_count": 18,
   "metadata": {},
   "outputs": [],
   "source": [
    "html = browser.html\n",
    "soup = BeautifulSoup(html, 'html.parser')\n",
    "# print(soup.prettify())"
   ]
  },
  {
   "cell_type": "code",
   "execution_count": 19,
   "metadata": {},
   "outputs": [
    {
     "data": {
      "text/plain": [
       "<div class=\"js-tweet-text-container\">\n",
       "<p class=\"TweetTextSize TweetTextSize--normal js-tweet-text tweet-text\" data-aria-label-part=\"0\" lang=\"en\">Sol 2037 (April 30, 2018), Sunny, high -2C/28F, low -75C/-103F, pressure at 7.25 hPa, daylight 05:24-17:20</p>\n",
       "</div>"
      ]
     },
     "execution_count": 19,
     "metadata": {},
     "output_type": "execute_result"
    }
   ],
   "source": [
    "container = soup.find('div', class_='js-tweet-text-container')\n",
    "container"
   ]
  },
  {
   "cell_type": "code",
   "execution_count": 20,
   "metadata": {},
   "outputs": [
    {
     "data": {
      "text/plain": [
       "'Sol 2037 (April 30, 2018), Sunny, high -2C/28F, low -75C/-103F, pressure at 7.25 hPa, daylight 05:24-17:20'"
      ]
     },
     "execution_count": 20,
     "metadata": {},
     "output_type": "execute_result"
    }
   ],
   "source": [
    "mars_weather = container.find('p', class_=\"TweetTextSize TweetTextSize--normal js-tweet-text tweet-text\").text\n",
    "mars_weather"
   ]
  },
  {
   "cell_type": "markdown",
   "metadata": {},
   "source": [
    "### Mars Facts"
   ]
  },
  {
   "cell_type": "code",
   "execution_count": 21,
   "metadata": {},
   "outputs": [],
   "source": [
    "# Visit the Mars Facts webpage here and use Pandas \n",
    "# to scrape the table containing facts about the planet \n",
    "# including Diameter, Mass, etc.\n",
    "# Use Pandas to convert the data to a HTML table string."
   ]
  },
  {
   "cell_type": "code",
   "execution_count": 22,
   "metadata": {},
   "outputs": [
    {
     "data": {
      "text/plain": [
       "[                      0                              1\n",
       " 0  Equatorial Diameter:                       6,792 km\n",
       " 1       Polar Diameter:                       6,752 km\n",
       " 2                 Mass:  6.42 x 10^23 kg (10.7% Earth)\n",
       " 3                Moons:            2 (Phobos & Deimos)\n",
       " 4       Orbit Distance:       227,943,824 km (1.52 AU)\n",
       " 5         Orbit Period:           687 days (1.9 years)\n",
       " 6  Surface Temperature:                  -153 to 20 °C\n",
       " 7         First Record:              2nd millennium BC\n",
       " 8          Recorded By:           Egyptian astronomers]"
      ]
     },
     "execution_count": 22,
     "metadata": {},
     "output_type": "execute_result"
    }
   ],
   "source": [
    "marsfacts_url = 'https://space-facts.com/mars/'\n",
    "tables = pd.read_html(marsfacts_url)\n",
    "tables"
   ]
  },
  {
   "cell_type": "code",
   "execution_count": 23,
   "metadata": {},
   "outputs": [
    {
     "data": {
      "text/html": [
       "<div>\n",
       "<style scoped>\n",
       "    .dataframe tbody tr th:only-of-type {\n",
       "        vertical-align: middle;\n",
       "    }\n",
       "\n",
       "    .dataframe tbody tr th {\n",
       "        vertical-align: top;\n",
       "    }\n",
       "\n",
       "    .dataframe thead th {\n",
       "        text-align: right;\n",
       "    }\n",
       "</style>\n",
       "<table border=\"1\" class=\"dataframe\">\n",
       "  <thead>\n",
       "    <tr style=\"text-align: right;\">\n",
       "      <th></th>\n",
       "      <th>0</th>\n",
       "      <th>1</th>\n",
       "    </tr>\n",
       "  </thead>\n",
       "  <tbody>\n",
       "    <tr>\n",
       "      <th>0</th>\n",
       "      <td>Equatorial Diameter:</td>\n",
       "      <td>6,792 km</td>\n",
       "    </tr>\n",
       "    <tr>\n",
       "      <th>1</th>\n",
       "      <td>Polar Diameter:</td>\n",
       "      <td>6,752 km</td>\n",
       "    </tr>\n",
       "    <tr>\n",
       "      <th>2</th>\n",
       "      <td>Mass:</td>\n",
       "      <td>6.42 x 10^23 kg (10.7% Earth)</td>\n",
       "    </tr>\n",
       "    <tr>\n",
       "      <th>3</th>\n",
       "      <td>Moons:</td>\n",
       "      <td>2 (Phobos &amp; Deimos)</td>\n",
       "    </tr>\n",
       "    <tr>\n",
       "      <th>4</th>\n",
       "      <td>Orbit Distance:</td>\n",
       "      <td>227,943,824 km (1.52 AU)</td>\n",
       "    </tr>\n",
       "    <tr>\n",
       "      <th>5</th>\n",
       "      <td>Orbit Period:</td>\n",
       "      <td>687 days (1.9 years)</td>\n",
       "    </tr>\n",
       "    <tr>\n",
       "      <th>6</th>\n",
       "      <td>Surface Temperature:</td>\n",
       "      <td>-153 to 20 °C</td>\n",
       "    </tr>\n",
       "    <tr>\n",
       "      <th>7</th>\n",
       "      <td>First Record:</td>\n",
       "      <td>2nd millennium BC</td>\n",
       "    </tr>\n",
       "    <tr>\n",
       "      <th>8</th>\n",
       "      <td>Recorded By:</td>\n",
       "      <td>Egyptian astronomers</td>\n",
       "    </tr>\n",
       "  </tbody>\n",
       "</table>\n",
       "</div>"
      ],
      "text/plain": [
       "                      0                              1\n",
       "0  Equatorial Diameter:                       6,792 km\n",
       "1       Polar Diameter:                       6,752 km\n",
       "2                 Mass:  6.42 x 10^23 kg (10.7% Earth)\n",
       "3                Moons:            2 (Phobos & Deimos)\n",
       "4       Orbit Distance:       227,943,824 km (1.52 AU)\n",
       "5         Orbit Period:           687 days (1.9 years)\n",
       "6  Surface Temperature:                  -153 to 20 °C\n",
       "7         First Record:              2nd millennium BC\n",
       "8          Recorded By:           Egyptian astronomers"
      ]
     },
     "execution_count": 23,
     "metadata": {},
     "output_type": "execute_result"
    }
   ],
   "source": [
    "df = tables[0]\n",
    "df"
   ]
  },
  {
   "cell_type": "code",
   "execution_count": 24,
   "metadata": {},
   "outputs": [
    {
     "data": {
      "text/html": [
       "<div>\n",
       "<style scoped>\n",
       "    .dataframe tbody tr th:only-of-type {\n",
       "        vertical-align: middle;\n",
       "    }\n",
       "\n",
       "    .dataframe tbody tr th {\n",
       "        vertical-align: top;\n",
       "    }\n",
       "\n",
       "    .dataframe thead th {\n",
       "        text-align: right;\n",
       "    }\n",
       "</style>\n",
       "<table border=\"1\" class=\"dataframe\">\n",
       "  <thead>\n",
       "    <tr style=\"text-align: right;\">\n",
       "      <th></th>\n",
       "      <th>Value</th>\n",
       "    </tr>\n",
       "    <tr>\n",
       "      <th>Measurement</th>\n",
       "      <th></th>\n",
       "    </tr>\n",
       "  </thead>\n",
       "  <tbody>\n",
       "    <tr>\n",
       "      <th>Equatorial Diameter:</th>\n",
       "      <td>6,792 km</td>\n",
       "    </tr>\n",
       "    <tr>\n",
       "      <th>Polar Diameter:</th>\n",
       "      <td>6,752 km</td>\n",
       "    </tr>\n",
       "    <tr>\n",
       "      <th>Mass:</th>\n",
       "      <td>6.42 x 10^23 kg (10.7% Earth)</td>\n",
       "    </tr>\n",
       "    <tr>\n",
       "      <th>Moons:</th>\n",
       "      <td>2 (Phobos &amp; Deimos)</td>\n",
       "    </tr>\n",
       "    <tr>\n",
       "      <th>Orbit Distance:</th>\n",
       "      <td>227,943,824 km (1.52 AU)</td>\n",
       "    </tr>\n",
       "    <tr>\n",
       "      <th>Orbit Period:</th>\n",
       "      <td>687 days (1.9 years)</td>\n",
       "    </tr>\n",
       "    <tr>\n",
       "      <th>Surface Temperature:</th>\n",
       "      <td>-153 to 20 °C</td>\n",
       "    </tr>\n",
       "    <tr>\n",
       "      <th>First Record:</th>\n",
       "      <td>2nd millennium BC</td>\n",
       "    </tr>\n",
       "    <tr>\n",
       "      <th>Recorded By:</th>\n",
       "      <td>Egyptian astronomers</td>\n",
       "    </tr>\n",
       "  </tbody>\n",
       "</table>\n",
       "</div>"
      ],
      "text/plain": [
       "                                              Value\n",
       "Measurement                                        \n",
       "Equatorial Diameter:                       6,792 km\n",
       "Polar Diameter:                            6,752 km\n",
       "Mass:                 6.42 x 10^23 kg (10.7% Earth)\n",
       "Moons:                          2 (Phobos & Deimos)\n",
       "Orbit Distance:            227,943,824 km (1.52 AU)\n",
       "Orbit Period:                  687 days (1.9 years)\n",
       "Surface Temperature:                  -153 to 20 °C\n",
       "First Record:                     2nd millennium BC\n",
       "Recorded By:                   Egyptian astronomers"
      ]
     },
     "execution_count": 24,
     "metadata": {},
     "output_type": "execute_result"
    }
   ],
   "source": [
    "df = df.rename(columns = {0:'Measurement',1:'Value'})\n",
    "df = df.set_index('Measurement')\n",
    "df"
   ]
  },
  {
   "cell_type": "code",
   "execution_count": 25,
   "metadata": {},
   "outputs": [
    {
     "data": {
      "text/plain": [
       "'<table border=\"1\" class=\"dataframe\">\\n  <thead>\\n    <tr style=\"text-align: right;\">\\n      <th></th>\\n      <th>Value</th>\\n    </tr>\\n    <tr>\\n      <th>Measurement</th>\\n      <th></th>\\n    </tr>\\n  </thead>\\n  <tbody>\\n    <tr>\\n      <th>Equatorial Diameter:</th>\\n      <td>6,792 km</td>\\n    </tr>\\n    <tr>\\n      <th>Polar Diameter:</th>\\n      <td>6,752 km</td>\\n    </tr>\\n    <tr>\\n      <th>Mass:</th>\\n      <td>6.42 x 10^23 kg (10.7% Earth)</td>\\n    </tr>\\n    <tr>\\n      <th>Moons:</th>\\n      <td>2 (Phobos &amp; Deimos)</td>\\n    </tr>\\n    <tr>\\n      <th>Orbit Distance:</th>\\n      <td>227,943,824 km (1.52 AU)</td>\\n    </tr>\\n    <tr>\\n      <th>Orbit Period:</th>\\n      <td>687 days (1.9 years)</td>\\n    </tr>\\n    <tr>\\n      <th>Surface Temperature:</th>\\n      <td>-153 to 20 °C</td>\\n    </tr>\\n    <tr>\\n      <th>First Record:</th>\\n      <td>2nd millennium BC</td>\\n    </tr>\\n    <tr>\\n      <th>Recorded By:</th>\\n      <td>Egyptian astronomers</td>\\n    </tr>\\n  </tbody>\\n</table>'"
      ]
     },
     "execution_count": 25,
     "metadata": {},
     "output_type": "execute_result"
    }
   ],
   "source": [
    "# convert table to html string\n",
    "html_table = df.to_html()\n",
    "html_table"
   ]
  },
  {
   "cell_type": "code",
   "execution_count": 26,
   "metadata": {},
   "outputs": [
    {
     "data": {
      "text/plain": [
       "'<table border=\"1\" class=\"dataframe\">  <thead>    <tr style=\"text-align: right;\">      <th></th>      <th>Value</th>    </tr>    <tr>      <th>Measurement</th>      <th></th>    </tr>  </thead>  <tbody>    <tr>      <th>Equatorial Diameter:</th>      <td>6,792 km</td>    </tr>    <tr>      <th>Polar Diameter:</th>      <td>6,752 km</td>    </tr>    <tr>      <th>Mass:</th>      <td>6.42 x 10^23 kg (10.7% Earth)</td>    </tr>    <tr>      <th>Moons:</th>      <td>2 (Phobos &amp; Deimos)</td>    </tr>    <tr>      <th>Orbit Distance:</th>      <td>227,943,824 km (1.52 AU)</td>    </tr>    <tr>      <th>Orbit Period:</th>      <td>687 days (1.9 years)</td>    </tr>    <tr>      <th>Surface Temperature:</th>      <td>-153 to 20 °C</td>    </tr>    <tr>      <th>First Record:</th>      <td>2nd millennium BC</td>    </tr>    <tr>      <th>Recorded By:</th>      <td>Egyptian astronomers</td>    </tr>  </tbody></table>'"
      ]
     },
     "execution_count": 26,
     "metadata": {},
     "output_type": "execute_result"
    }
   ],
   "source": [
    "# strip unwanted newlines to clean up the table.\n",
    "html_table = html_table.replace('\\n', '')\n",
    "html_table"
   ]
  },
  {
   "cell_type": "markdown",
   "metadata": {},
   "source": [
    "### Mars Hemisperes"
   ]
  },
  {
   "cell_type": "code",
   "execution_count": 27,
   "metadata": {},
   "outputs": [],
   "source": [
    "# Visit the USGS Astrogeology site here to obtain \n",
    "# high resolution images for each of Mar's hemispheres.\n",
    "# You will need to click each of the links to the hemispheres \n",
    "# in order to find the image url to the full resolution image.\n",
    "# Save both the image url string for the full resolution hemipshere image, \n",
    "# and the Hemisphere title containing the hemisphere name. \n",
    "\n",
    "# Use a Python dictionary to store the data using the keys img_url and title.\n",
    "# Append the dictionary with the image url string and the hemisphere title to a list. \n",
    "# This list will contain one dictionary for each hemisphere.\n",
    "\n",
    "# # Example:\n",
    "# hemisphere_image_urls = [\n",
    "#     {\"title\": \"Valles Marineris Hemisphere\", \"img_url\": \"...\"},\n",
    "#     {\"title\": \"Cerberus Hemisphere\", \"img_url\": \"...\"},\n",
    "#     {\"title\": \"Schiaparelli Hemisphere\", \"img_url\": \"...\"},\n",
    "#     {\"title\": \"Syrtis Major Hemisphere\", \"img_url\": \"...\"},\n",
    "# ]"
   ]
  },
  {
   "cell_type": "code",
   "execution_count": 28,
   "metadata": {},
   "outputs": [],
   "source": [
    "browser = Browser('chrome', headless=False)\n",
    "usgs_url = 'https://astrogeology.usgs.gov/search/results?q=hemisphere+enhanced&k1=target&v1=Mars'\n",
    "browser.visit(usgs_url)"
   ]
  },
  {
   "cell_type": "code",
   "execution_count": 29,
   "metadata": {},
   "outputs": [
    {
     "name": "stdout",
     "output_type": "stream",
     "text": [
      "http://astropedia.astrogeology.usgs.gov/download/Mars/Viking/cerberus_enhanced.tif/full.jpg\n",
      "Cerberus Hemisphere\n"
     ]
    }
   ],
   "source": [
    "browser.find_by_css('h3')[0].click()\n",
    "img1_url = browser.find_by_tag('a')[41]['href']\n",
    "print(img1_url)\n",
    "\n",
    "img1_title = browser.find_by_css('h2')[0].text\n",
    "img1_title = img1_title.replace(' Enhanced', '')\n",
    "print(img1_title)"
   ]
  },
  {
   "cell_type": "code",
   "execution_count": 30,
   "metadata": {},
   "outputs": [
    {
     "name": "stdout",
     "output_type": "stream",
     "text": [
      "http://astropedia.astrogeology.usgs.gov/download/Mars/Viking/schiaparelli_enhanced.tif/full.jpg\n",
      "Schiaparelli Hemisphere\n"
     ]
    }
   ],
   "source": [
    "browser.back()\n",
    "browser.find_by_css('h3')[1].click()\n",
    "img2_url = browser.find_by_tag('a')[41]['href']\n",
    "print(img2_url)\n",
    "\n",
    "img2_title = browser.find_by_css('h2')[0].text\n",
    "img2_title = img2_title.replace(' Enhanced', '')\n",
    "print(img2_title)"
   ]
  },
  {
   "cell_type": "code",
   "execution_count": 31,
   "metadata": {},
   "outputs": [
    {
     "name": "stdout",
     "output_type": "stream",
     "text": [
      "http://astropedia.astrogeology.usgs.gov/download/Mars/Viking/syrtis_major_enhanced.tif/full.jpg\n",
      "Syrtis Major Hemisphere\n"
     ]
    }
   ],
   "source": [
    "browser.back()\n",
    "browser.find_by_css('h3')[2].click()\n",
    "img3_url = browser.find_by_tag('a')[41]['href']\n",
    "print(img3_url)\n",
    "\n",
    "img3_title = browser.find_by_css('h2')[0].text\n",
    "img3_title = img3_title.replace(' Enhanced', '')\n",
    "print(img3_title)"
   ]
  },
  {
   "cell_type": "code",
   "execution_count": 32,
   "metadata": {},
   "outputs": [
    {
     "name": "stdout",
     "output_type": "stream",
     "text": [
      "http://astropedia.astrogeology.usgs.gov/download/Mars/Viking/valles_marineris_enhanced.tif/full.jpg\n",
      "Valles Marineris Hemisphere\n"
     ]
    }
   ],
   "source": [
    "browser.back()\n",
    "browser.find_by_css('h3')[3].click()\n",
    "img4_url = browser.find_by_tag('a')[41]['href']\n",
    "print(img4_url)\n",
    "\n",
    "img4_title = browser.find_by_css('h2')[0].text\n",
    "img4_title = img4_title.replace(' Enhanced', '')\n",
    "print(img4_title)"
   ]
  },
  {
   "cell_type": "code",
   "execution_count": 33,
   "metadata": {},
   "outputs": [
    {
     "data": {
      "text/plain": [
       "[{'img_url': 'http://astropedia.astrogeology.usgs.gov/download/Mars/Viking/cerberus_enhanced.tif/full.jpg',\n",
       "  'title': 'Cerberus Hemisphere'},\n",
       " {'img_url': 'http://astropedia.astrogeology.usgs.gov/download/Mars/Viking/schiaparelli_enhanced.tif/full.jpg',\n",
       "  'title': 'Schiaparelli Hemisphere'},\n",
       " {'img_url': 'http://astropedia.astrogeology.usgs.gov/download/Mars/Viking/syrtis_major_enhanced.tif/full.jpg',\n",
       "  'title': 'Syrtis Major Hemisphere'},\n",
       " {'img_url': 'http://astropedia.astrogeology.usgs.gov/download/Mars/Viking/valles_marineris_enhanced.tif/full.jpg',\n",
       "  'title': 'Valles Marineris Hemisphere'}]"
      ]
     },
     "execution_count": 33,
     "metadata": {},
     "output_type": "execute_result"
    }
   ],
   "source": [
    "# Use a Python dictionary to store the data using the keys img_url and title.\n",
    "hemisphere_img_dict = [\n",
    "    {\"title\": img1_title, \"img_url\": img1_url},\n",
    "    {\"title\": img2_title, \"img_url\": img2_url},\n",
    "    {\"title\": img3_title, \"img_url\": img3_url},\n",
    "    {\"title\": img4_title, \"img_url\": img4_url},\n",
    "]\n",
    "\n",
    "hemisphere_img_dict"
   ]
  },
  {
   "cell_type": "markdown",
   "metadata": {},
   "source": [
    "##### End of Script"
   ]
  }
 ],
 "metadata": {
  "kernelspec": {
   "display_name": "Python 3",
   "language": "python",
   "name": "python3"
  },
  "language_info": {
   "codemirror_mode": {
    "name": "ipython",
    "version": 3
   },
   "file_extension": ".py",
   "mimetype": "text/x-python",
   "name": "python",
   "nbconvert_exporter": "python",
   "pygments_lexer": "ipython3",
   "version": "3.6.4"
  }
 },
 "nbformat": 4,
 "nbformat_minor": 2
}
